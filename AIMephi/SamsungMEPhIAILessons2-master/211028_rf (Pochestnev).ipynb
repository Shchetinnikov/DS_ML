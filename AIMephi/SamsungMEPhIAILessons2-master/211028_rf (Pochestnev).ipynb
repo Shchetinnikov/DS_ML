{
 "cells": [
  {
   "cell_type": "markdown",
   "metadata": {},
   "source": [
    "# Random Forest"
   ]
  },
  {
   "cell_type": "markdown",
   "metadata": {},
   "source": [
    "Случайный лес — модель, состоящая из множества деревьев решений. Вместо того,чтобы просто усреднять прогнозы разных деревьев (такая концепция называется просто «лес»), эта модель использует две ключевые концепции, которые и делают этот лес случайным."
   ]
  },
  {
   "cell_type": "markdown",
   "metadata": {},
   "source": [
    "**1.** Случайная выборка образцов из набора данных при построении деревьев.\n",
    "\n",
    "**2.** При разделении узлов выбираются случайные наборы параметров."
   ]
  },
  {
   "cell_type": "markdown",
   "metadata": {},
   "source": [
    "**Все деревья строятся независимо по следующей схеме:**\n",
    "\n",
    "**1.** Выбирается подвыборка обучающей выборки, по ней строится дерево (для каждого дерева — своя подвыборка).\n",
    "\n",
    "**2.** Для построения каждого расщепления в дереве просматриваем max_features случайных признаков (для каждого нового расщепления — свои случайные признаки).\n",
    "\n",
    "**3.** Выбираем наилучшие признак и расщепление по нему (по заранее заданному критерию). Дерево строится, как правило, до исчерпания выборки (пока в листьях не останутся представители только одного класса), но в современных реализациях есть параметры, которые ограничивают высоту дерева, число объектов в листьях и число объектов в подвыборке, при котором проводится расщепление."
   ]
  },
  {
   "cell_type": "markdown",
   "metadata": {},
   "source": [
    "В задаче регрессии ответы деревьев усредняются, в задаче классификации принимается решение голосованием по большинству. "
   ]
  },
  {
   "cell_type": "markdown",
   "metadata": {},
   "source": [
    "### А зачем модель нужна, когда есть уже прекрасные деревья\n",
    "\n",
    "Алгоритм дерева решений переобучается, если не ограничить его максимальную глубину. Он обладает неограниченной гибкостью и может разрастаться, пока не достигнет состояния идеальной классификации, в которой каждому образцу из набора данных будет соответствовать один лист. Если вернуться назад к созданию дерева и ограничить его глубину двумя слоями (сделав только одно разделение), классификация больше не будет на 100 % верной. Мы уменьшаем вариативность за счёт увеличения погрешности.\n",
    "\n",
    "В качестве альтернативы ограничению глубины, которое ведёт к уменьшению вариативности (хорошо) и увеличению погрешности (плохо), мы можем собрать множество деревьев в единую модель. Это и будет классификатор на основе комитета деревьев принятия решений или просто «случайный лес»."
   ]
  },
  {
   "cell_type": "markdown",
   "metadata": {},
   "source": [
    "## Основные параметры модели"
   ]
  },
  {
   "cell_type": "markdown",
   "metadata": {},
   "source": [
    "### Число деревьев — n_estimators\n",
    "\n",
    "Чем больше деревьев, тем лучше качество, но время настройки и работы RF также пропорционально увеличиваются. Обратите внимание, что часто при увеличении n_estimators качество на обучающей выборке повышается (может даже доходить до 100%), а качество на тесте выходит на асимптоту (можно прикинуть, скольких деревьев Вам достаточно).\n"
   ]
  },
  {
   "cell_type": "markdown",
   "metadata": {},
   "source": [
    "![](https://alexanderdyakonov.files.wordpress.com/2016/11/n_estimators.png?w=768)"
   ]
  },
  {
   "cell_type": "markdown",
   "metadata": {},
   "source": [
    "### Максимальная глубина деревьев — max_depth\n",
    "Ясно, что чем меньше глубина, тем быстрее строится и работает RF. При увеличении глубины резко возрастает качество на обучении, но и на контроле оно, как правило, увеличивается. Рекомендуется использовать максимальную глубину (кроме случаев, когда объектов слишком много и получаются очень глубокие деревья, построение которых занимает значительное время). При использовании неглубоких деревьев изменение параметров, связанных с ограничением числа объектов в листе и для деления, не приводит к значимому эффекту (листья и так получаются «большими»). Неглубокие деревья рекомендуют использовать в задачах с большим числом шумовых объектов (выбросов)."
   ]
  },
  {
   "cell_type": "markdown",
   "metadata": {},
   "source": [
    "![](https://alexanderdyakonov.files.wordpress.com/2016/11/max_depth.png?w=768)"
   ]
  },
  {
   "cell_type": "markdown",
   "metadata": {},
   "source": [
    "### Число признаков для выбора расщепления — max_features\n",
    "График качества на тесте от значения этого праметра унимодальный, на обучении он строго возрастает. При увеличении max_features увеличивается время построения леса, а деревья становятся «более однообразными». По умолчанию он равен sqrt(n) в задачах классификации и n/3 в задачах регрессии."
   ]
  },
  {
   "cell_type": "markdown",
   "metadata": {},
   "source": [
    "## Проверим алгоритм на деле\n"
   ]
  },
  {
   "cell_type": "code",
   "execution_count": 12,
   "metadata": {},
   "outputs": [
    {
     "data": {
      "text/html": [
       "<div>\n",
       "<style scoped>\n",
       "    .dataframe tbody tr th:only-of-type {\n",
       "        vertical-align: middle;\n",
       "    }\n",
       "\n",
       "    .dataframe tbody tr th {\n",
       "        vertical-align: top;\n",
       "    }\n",
       "\n",
       "    .dataframe thead th {\n",
       "        text-align: right;\n",
       "    }\n",
       "</style>\n",
       "<table border=\"1\" class=\"dataframe\">\n",
       "  <thead>\n",
       "    <tr style=\"text-align: right;\">\n",
       "      <th></th>\n",
       "      <th>_STATE</th>\n",
       "      <th>FMONTH</th>\n",
       "      <th>IDATE</th>\n",
       "      <th>IMONTH</th>\n",
       "      <th>IDAY</th>\n",
       "      <th>IYEAR</th>\n",
       "      <th>DISPCODE</th>\n",
       "      <th>SEQNO</th>\n",
       "      <th>_PSU</th>\n",
       "      <th>CTELENUM</th>\n",
       "      <th>...</th>\n",
       "      <th>_PAREC1</th>\n",
       "      <th>_PASTAE1</th>\n",
       "      <th>_LMTACT1</th>\n",
       "      <th>_LMTWRK1</th>\n",
       "      <th>_LMTSCL1</th>\n",
       "      <th>_RFSEAT2</th>\n",
       "      <th>_RFSEAT3</th>\n",
       "      <th>_FLSHOT6</th>\n",
       "      <th>_PNEUMO2</th>\n",
       "      <th>_AIDTST3</th>\n",
       "    </tr>\n",
       "  </thead>\n",
       "  <tbody>\n",
       "    <tr>\n",
       "      <th>261167</th>\n",
       "      <td>34.0</td>\n",
       "      <td>7.0</td>\n",
       "      <td>b'07282015'</td>\n",
       "      <td>b'07'</td>\n",
       "      <td>b'28'</td>\n",
       "      <td>b'2015'</td>\n",
       "      <td>1100.0</td>\n",
       "      <td>2.015005e+09</td>\n",
       "      <td>2.015005e+09</td>\n",
       "      <td>1.0</td>\n",
       "      <td>...</td>\n",
       "      <td>2.0</td>\n",
       "      <td>2.0</td>\n",
       "      <td>3.0</td>\n",
       "      <td>3.0</td>\n",
       "      <td>4.0</td>\n",
       "      <td>1.0</td>\n",
       "      <td>1.0</td>\n",
       "      <td>NaN</td>\n",
       "      <td>NaN</td>\n",
       "      <td>9.0</td>\n",
       "    </tr>\n",
       "    <tr>\n",
       "      <th>293775</th>\n",
       "      <td>38.0</td>\n",
       "      <td>1.0</td>\n",
       "      <td>b'01082015'</td>\n",
       "      <td>b'01'</td>\n",
       "      <td>b'08'</td>\n",
       "      <td>b'2015'</td>\n",
       "      <td>1100.0</td>\n",
       "      <td>2.015000e+09</td>\n",
       "      <td>2.015000e+09</td>\n",
       "      <td>1.0</td>\n",
       "      <td>...</td>\n",
       "      <td>9.0</td>\n",
       "      <td>9.0</td>\n",
       "      <td>2.0</td>\n",
       "      <td>2.0</td>\n",
       "      <td>3.0</td>\n",
       "      <td>1.0</td>\n",
       "      <td>1.0</td>\n",
       "      <td>2.0</td>\n",
       "      <td>2.0</td>\n",
       "      <td>2.0</td>\n",
       "    </tr>\n",
       "    <tr>\n",
       "      <th>386309</th>\n",
       "      <td>50.0</td>\n",
       "      <td>1.0</td>\n",
       "      <td>b'01152015'</td>\n",
       "      <td>b'01'</td>\n",
       "      <td>b'15'</td>\n",
       "      <td>b'2015'</td>\n",
       "      <td>1100.0</td>\n",
       "      <td>2.015001e+09</td>\n",
       "      <td>2.015001e+09</td>\n",
       "      <td>1.0</td>\n",
       "      <td>...</td>\n",
       "      <td>1.0</td>\n",
       "      <td>1.0</td>\n",
       "      <td>3.0</td>\n",
       "      <td>3.0</td>\n",
       "      <td>4.0</td>\n",
       "      <td>1.0</td>\n",
       "      <td>1.0</td>\n",
       "      <td>1.0</td>\n",
       "      <td>1.0</td>\n",
       "      <td>1.0</td>\n",
       "    </tr>\n",
       "    <tr>\n",
       "      <th>274432</th>\n",
       "      <td>36.0</td>\n",
       "      <td>8.0</td>\n",
       "      <td>b'09142015'</td>\n",
       "      <td>b'09'</td>\n",
       "      <td>b'14'</td>\n",
       "      <td>b'2015'</td>\n",
       "      <td>1200.0</td>\n",
       "      <td>2.015000e+09</td>\n",
       "      <td>2.015000e+09</td>\n",
       "      <td>NaN</td>\n",
       "      <td>...</td>\n",
       "      <td>1.0</td>\n",
       "      <td>1.0</td>\n",
       "      <td>3.0</td>\n",
       "      <td>3.0</td>\n",
       "      <td>4.0</td>\n",
       "      <td>1.0</td>\n",
       "      <td>1.0</td>\n",
       "      <td>NaN</td>\n",
       "      <td>NaN</td>\n",
       "      <td>2.0</td>\n",
       "    </tr>\n",
       "    <tr>\n",
       "      <th>217891</th>\n",
       "      <td>29.0</td>\n",
       "      <td>7.0</td>\n",
       "      <td>b'07152015'</td>\n",
       "      <td>b'07'</td>\n",
       "      <td>b'15'</td>\n",
       "      <td>b'2015'</td>\n",
       "      <td>1200.0</td>\n",
       "      <td>2.015003e+09</td>\n",
       "      <td>2.015003e+09</td>\n",
       "      <td>1.0</td>\n",
       "      <td>...</td>\n",
       "      <td>9.0</td>\n",
       "      <td>9.0</td>\n",
       "      <td>3.0</td>\n",
       "      <td>3.0</td>\n",
       "      <td>4.0</td>\n",
       "      <td>9.0</td>\n",
       "      <td>9.0</td>\n",
       "      <td>NaN</td>\n",
       "      <td>NaN</td>\n",
       "      <td>NaN</td>\n",
       "    </tr>\n",
       "    <tr>\n",
       "      <th>...</th>\n",
       "      <td>...</td>\n",
       "      <td>...</td>\n",
       "      <td>...</td>\n",
       "      <td>...</td>\n",
       "      <td>...</td>\n",
       "      <td>...</td>\n",
       "      <td>...</td>\n",
       "      <td>...</td>\n",
       "      <td>...</td>\n",
       "      <td>...</td>\n",
       "      <td>...</td>\n",
       "      <td>...</td>\n",
       "      <td>...</td>\n",
       "      <td>...</td>\n",
       "      <td>...</td>\n",
       "      <td>...</td>\n",
       "      <td>...</td>\n",
       "      <td>...</td>\n",
       "      <td>...</td>\n",
       "      <td>...</td>\n",
       "      <td>...</td>\n",
       "    </tr>\n",
       "    <tr>\n",
       "      <th>186786</th>\n",
       "      <td>26.0</td>\n",
       "      <td>1.0</td>\n",
       "      <td>b'02222015'</td>\n",
       "      <td>b'02'</td>\n",
       "      <td>b'22'</td>\n",
       "      <td>b'2015'</td>\n",
       "      <td>1100.0</td>\n",
       "      <td>2.015003e+09</td>\n",
       "      <td>2.015003e+09</td>\n",
       "      <td>1.0</td>\n",
       "      <td>...</td>\n",
       "      <td>4.0</td>\n",
       "      <td>2.0</td>\n",
       "      <td>2.0</td>\n",
       "      <td>2.0</td>\n",
       "      <td>3.0</td>\n",
       "      <td>1.0</td>\n",
       "      <td>1.0</td>\n",
       "      <td>NaN</td>\n",
       "      <td>NaN</td>\n",
       "      <td>2.0</td>\n",
       "    </tr>\n",
       "    <tr>\n",
       "      <th>338490</th>\n",
       "      <td>45.0</td>\n",
       "      <td>9.0</td>\n",
       "      <td>b'09212015'</td>\n",
       "      <td>b'09'</td>\n",
       "      <td>b'21'</td>\n",
       "      <td>b'2015'</td>\n",
       "      <td>1100.0</td>\n",
       "      <td>2.015004e+09</td>\n",
       "      <td>2.015004e+09</td>\n",
       "      <td>1.0</td>\n",
       "      <td>...</td>\n",
       "      <td>4.0</td>\n",
       "      <td>2.0</td>\n",
       "      <td>3.0</td>\n",
       "      <td>3.0</td>\n",
       "      <td>4.0</td>\n",
       "      <td>1.0</td>\n",
       "      <td>1.0</td>\n",
       "      <td>NaN</td>\n",
       "      <td>NaN</td>\n",
       "      <td>2.0</td>\n",
       "    </tr>\n",
       "    <tr>\n",
       "      <th>11078</th>\n",
       "      <td>2.0</td>\n",
       "      <td>6.0</td>\n",
       "      <td>b'06102015'</td>\n",
       "      <td>b'06'</td>\n",
       "      <td>b'10'</td>\n",
       "      <td>b'2015'</td>\n",
       "      <td>1100.0</td>\n",
       "      <td>2.015003e+09</td>\n",
       "      <td>2.015003e+09</td>\n",
       "      <td>NaN</td>\n",
       "      <td>...</td>\n",
       "      <td>4.0</td>\n",
       "      <td>2.0</td>\n",
       "      <td>3.0</td>\n",
       "      <td>3.0</td>\n",
       "      <td>4.0</td>\n",
       "      <td>1.0</td>\n",
       "      <td>1.0</td>\n",
       "      <td>NaN</td>\n",
       "      <td>NaN</td>\n",
       "      <td>2.0</td>\n",
       "    </tr>\n",
       "    <tr>\n",
       "      <th>178493</th>\n",
       "      <td>25.0</td>\n",
       "      <td>11.0</td>\n",
       "      <td>b'11112015'</td>\n",
       "      <td>b'11'</td>\n",
       "      <td>b'11'</td>\n",
       "      <td>b'2015'</td>\n",
       "      <td>1200.0</td>\n",
       "      <td>2.015004e+09</td>\n",
       "      <td>2.015004e+09</td>\n",
       "      <td>1.0</td>\n",
       "      <td>...</td>\n",
       "      <td>4.0</td>\n",
       "      <td>2.0</td>\n",
       "      <td>2.0</td>\n",
       "      <td>2.0</td>\n",
       "      <td>3.0</td>\n",
       "      <td>1.0</td>\n",
       "      <td>1.0</td>\n",
       "      <td>1.0</td>\n",
       "      <td>1.0</td>\n",
       "      <td>2.0</td>\n",
       "    </tr>\n",
       "    <tr>\n",
       "      <th>418475</th>\n",
       "      <td>54.0</td>\n",
       "      <td>7.0</td>\n",
       "      <td>b'07092015'</td>\n",
       "      <td>b'07'</td>\n",
       "      <td>b'09'</td>\n",
       "      <td>b'2015'</td>\n",
       "      <td>1100.0</td>\n",
       "      <td>2.015002e+09</td>\n",
       "      <td>2.015002e+09</td>\n",
       "      <td>1.0</td>\n",
       "      <td>...</td>\n",
       "      <td>1.0</td>\n",
       "      <td>1.0</td>\n",
       "      <td>3.0</td>\n",
       "      <td>3.0</td>\n",
       "      <td>4.0</td>\n",
       "      <td>1.0</td>\n",
       "      <td>1.0</td>\n",
       "      <td>NaN</td>\n",
       "      <td>NaN</td>\n",
       "      <td>2.0</td>\n",
       "    </tr>\n",
       "  </tbody>\n",
       "</table>\n",
       "<p>100000 rows × 330 columns</p>\n",
       "</div>"
      ],
      "text/plain": [
       "        _STATE  FMONTH        IDATE IMONTH   IDAY    IYEAR  DISPCODE  \\\n",
       "261167    34.0     7.0  b'07282015'  b'07'  b'28'  b'2015'    1100.0   \n",
       "293775    38.0     1.0  b'01082015'  b'01'  b'08'  b'2015'    1100.0   \n",
       "386309    50.0     1.0  b'01152015'  b'01'  b'15'  b'2015'    1100.0   \n",
       "274432    36.0     8.0  b'09142015'  b'09'  b'14'  b'2015'    1200.0   \n",
       "217891    29.0     7.0  b'07152015'  b'07'  b'15'  b'2015'    1200.0   \n",
       "...        ...     ...          ...    ...    ...      ...       ...   \n",
       "186786    26.0     1.0  b'02222015'  b'02'  b'22'  b'2015'    1100.0   \n",
       "338490    45.0     9.0  b'09212015'  b'09'  b'21'  b'2015'    1100.0   \n",
       "11078      2.0     6.0  b'06102015'  b'06'  b'10'  b'2015'    1100.0   \n",
       "178493    25.0    11.0  b'11112015'  b'11'  b'11'  b'2015'    1200.0   \n",
       "418475    54.0     7.0  b'07092015'  b'07'  b'09'  b'2015'    1100.0   \n",
       "\n",
       "               SEQNO          _PSU  CTELENUM  ...  _PAREC1  _PASTAE1  \\\n",
       "261167  2.015005e+09  2.015005e+09       1.0  ...      2.0       2.0   \n",
       "293775  2.015000e+09  2.015000e+09       1.0  ...      9.0       9.0   \n",
       "386309  2.015001e+09  2.015001e+09       1.0  ...      1.0       1.0   \n",
       "274432  2.015000e+09  2.015000e+09       NaN  ...      1.0       1.0   \n",
       "217891  2.015003e+09  2.015003e+09       1.0  ...      9.0       9.0   \n",
       "...              ...           ...       ...  ...      ...       ...   \n",
       "186786  2.015003e+09  2.015003e+09       1.0  ...      4.0       2.0   \n",
       "338490  2.015004e+09  2.015004e+09       1.0  ...      4.0       2.0   \n",
       "11078   2.015003e+09  2.015003e+09       NaN  ...      4.0       2.0   \n",
       "178493  2.015004e+09  2.015004e+09       1.0  ...      4.0       2.0   \n",
       "418475  2.015002e+09  2.015002e+09       1.0  ...      1.0       1.0   \n",
       "\n",
       "        _LMTACT1  _LMTWRK1  _LMTSCL1  _RFSEAT2  _RFSEAT3  _FLSHOT6  _PNEUMO2  \\\n",
       "261167       3.0       3.0       4.0       1.0       1.0       NaN       NaN   \n",
       "293775       2.0       2.0       3.0       1.0       1.0       2.0       2.0   \n",
       "386309       3.0       3.0       4.0       1.0       1.0       1.0       1.0   \n",
       "274432       3.0       3.0       4.0       1.0       1.0       NaN       NaN   \n",
       "217891       3.0       3.0       4.0       9.0       9.0       NaN       NaN   \n",
       "...          ...       ...       ...       ...       ...       ...       ...   \n",
       "186786       2.0       2.0       3.0       1.0       1.0       NaN       NaN   \n",
       "338490       3.0       3.0       4.0       1.0       1.0       NaN       NaN   \n",
       "11078        3.0       3.0       4.0       1.0       1.0       NaN       NaN   \n",
       "178493       2.0       2.0       3.0       1.0       1.0       1.0       1.0   \n",
       "418475       3.0       3.0       4.0       1.0       1.0       NaN       NaN   \n",
       "\n",
       "        _AIDTST3  \n",
       "261167       9.0  \n",
       "293775       2.0  \n",
       "386309       1.0  \n",
       "274432       2.0  \n",
       "217891       NaN  \n",
       "...          ...  \n",
       "186786       2.0  \n",
       "338490       2.0  \n",
       "11078        2.0  \n",
       "178493       2.0  \n",
       "418475       2.0  \n",
       "\n",
       "[100000 rows x 330 columns]"
      ]
     },
     "execution_count": 12,
     "metadata": {},
     "output_type": "execute_result"
    }
   ],
   "source": [
    "import pandas as pd\n",
    "import numpy as np\n",
    "df = pd.read_csv('2015.csv').sample(100000, random_state = 53)\n",
    "df"
   ]
  },
  {
   "cell_type": "code",
   "execution_count": 13,
   "metadata": {},
   "outputs": [],
   "source": [
    "df = df.select_dtypes('number')"
   ]
  },
  {
   "cell_type": "code",
   "execution_count": 14,
   "metadata": {},
   "outputs": [
    {
     "name": "stderr",
     "output_type": "stream",
     "text": [
      "D:\\Python\\lib\\site-packages\\ipykernel_launcher.py:1: SettingWithCopyWarning: \n",
      "A value is trying to be set on a copy of a slice from a DataFrame.\n",
      "Try using .loc[row_indexer,col_indexer] = value instead\n",
      "\n",
      "See the caveats in the documentation: https://pandas.pydata.org/pandas-docs/stable/user_guide/indexing.html#returning-a-view-versus-a-copy\n",
      "  \"\"\"Entry point for launching an IPython kernel.\n"
     ]
    },
    {
     "data": {
      "text/plain": [
       "1.0    80984\n",
       "0.0    18721\n",
       "Name: label, dtype: int64"
      ]
     },
     "execution_count": 14,
     "metadata": {},
     "output_type": "execute_result"
    }
   ],
   "source": [
    "df['_RFHLTH'] = df['_RFHLTH'].replace({2: 0})\n",
    "df = df.loc[df['_RFHLTH'].isin([0, 1])].copy()\n",
    "df = df.rename(columns = {'_RFHLTH': 'label'})\n",
    "df['label'].value_counts()"
   ]
  },
  {
   "cell_type": "code",
   "execution_count": 15,
   "metadata": {},
   "outputs": [],
   "source": [
    "df = df.drop(columns = ['POORHLTH', 'PHYSHLTH', 'GENHLTH', 'PAINACT2', \n",
    "                        'QLMENTL2', 'QLSTRES2', 'QLHLTH2', 'HLTHPLN1', 'MENTHLTH'])"
   ]
  },
  {
   "cell_type": "code",
   "execution_count": 16,
   "metadata": {},
   "outputs": [],
   "source": [
    "from sklearn.model_selection import train_test_split\n",
    "\n",
    "labels = np.array(df.pop('label'))\n",
    "train, test, train_labels, test_labels = train_test_split(df, labels, \n",
    "                                                          stratify = labels,\n",
    "                                                          test_size = 0.3, \n",
    "                                                          random_state = 53)"
   ]
  },
  {
   "cell_type": "code",
   "execution_count": 17,
   "metadata": {},
   "outputs": [],
   "source": [
    "train = train.fillna(train.mean())\n",
    "test = test.fillna(test.mean())\n",
    "\n",
    "features = list(train.columns)"
   ]
  },
  {
   "cell_type": "code",
   "execution_count": 26,
   "metadata": {},
   "outputs": [
    {
     "name": "stdout",
     "output_type": "stream",
     "text": [
      "accuracy: 0.7606980476063119\n"
     ]
    }
   ],
   "source": [
    "from sklearn.tree import DecisionTreeClassifier\n",
    "from sklearn.metrics import precision_score, recall_score, roc_auc_score, roc_curve, accuracy_score\n",
    "tree = DecisionTreeClassifier(random_state=53)\n",
    "tree.fit(train, train_labels)\n",
    "predictions = tree.predict(test)\n",
    "\n",
    "print(f'accuracy: {accuracy_score(test_labels, predictions)}')"
   ]
  },
  {
   "cell_type": "code",
   "execution_count": 21,
   "metadata": {},
   "outputs": [
    {
     "name": "stderr",
     "output_type": "stream",
     "text": [
      "[Parallel(n_jobs=-1)]: Using backend ThreadingBackend with 8 concurrent workers.\n",
      "[Parallel(n_jobs=-1)]: Done  34 tasks      | elapsed:    5.0s\n",
      "[Parallel(n_jobs=-1)]: Done 100 out of 100 | elapsed:   15.0s finished\n"
     ]
    },
    {
     "data": {
      "text/plain": [
       "RandomForestClassifier(max_features='sqrt', n_jobs=-1, random_state=53,\n",
       "                       verbose=1)"
      ]
     },
     "execution_count": 21,
     "metadata": {},
     "output_type": "execute_result"
    }
   ],
   "source": [
    "from sklearn.ensemble import RandomForestClassifier\n",
    "\n",
    "model = RandomForestClassifier(n_estimators=100, \n",
    "                               random_state=53, \n",
    "                               max_features = 'sqrt',\n",
    "                               n_jobs=-1, verbose = 1)\n",
    "\n",
    "model.fit(train, train_labels)"
   ]
  },
  {
   "cell_type": "code",
   "execution_count": 22,
   "metadata": {},
   "outputs": [
    {
     "name": "stderr",
     "output_type": "stream",
     "text": [
      "[Parallel(n_jobs=8)]: Using backend ThreadingBackend with 8 concurrent workers.\n",
      "[Parallel(n_jobs=8)]: Done  34 tasks      | elapsed:    0.2s\n",
      "[Parallel(n_jobs=8)]: Done 100 out of 100 | elapsed:    0.7s finished\n",
      "[Parallel(n_jobs=8)]: Using backend ThreadingBackend with 8 concurrent workers.\n",
      "[Parallel(n_jobs=8)]: Done  34 tasks      | elapsed:    0.3s\n",
      "[Parallel(n_jobs=8)]: Done 100 out of 100 | elapsed:    0.8s finished\n",
      "[Parallel(n_jobs=8)]: Using backend ThreadingBackend with 8 concurrent workers.\n",
      "[Parallel(n_jobs=8)]: Done  34 tasks      | elapsed:    0.0s\n",
      "[Parallel(n_jobs=8)]: Done 100 out of 100 | elapsed:    0.2s finished\n",
      "[Parallel(n_jobs=8)]: Using backend ThreadingBackend with 8 concurrent workers.\n",
      "[Parallel(n_jobs=8)]: Done  34 tasks      | elapsed:    0.0s\n",
      "[Parallel(n_jobs=8)]: Done 100 out of 100 | elapsed:    0.2s finished\n"
     ]
    }
   ],
   "source": [
    "train_rf_predictions = model.predict(train)\n",
    "train_rf_probs = model.predict_proba(train)[:, 1]\n",
    "\n",
    "rf_predictions = model.predict(test)\n",
    "rf_probs = model.predict_proba(test)[:, 1]"
   ]
  },
  {
   "cell_type": "code",
   "execution_count": 28,
   "metadata": {},
   "outputs": [
    {
     "name": "stdout",
     "output_type": "stream",
     "text": [
      "accuracy: 0.8642016581973789\n"
     ]
    }
   ],
   "source": [
    "print(f'accuracy: {accuracy_score(test_labels, rf_predictions)}')"
   ]
  },
  {
   "cell_type": "code",
   "execution_count": null,
   "metadata": {},
   "outputs": [],
   "source": []
  }
 ],
 "metadata": {
  "kernelspec": {
   "display_name": "Python 3",
   "language": "python",
   "name": "python3"
  },
  "language_info": {
   "codemirror_mode": {
    "name": "ipython",
    "version": 3
   },
   "file_extension": ".py",
   "mimetype": "text/x-python",
   "name": "python",
   "nbconvert_exporter": "python",
   "pygments_lexer": "ipython3",
   "version": "3.7.6"
  }
 },
 "nbformat": 4,
 "nbformat_minor": 4
}
