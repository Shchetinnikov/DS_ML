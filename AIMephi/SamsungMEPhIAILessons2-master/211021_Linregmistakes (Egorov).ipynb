{
 "cells": [
  {
   "cell_type": "markdown",
   "metadata": {
    "id": "1h0aKVdasDc9"
   },
   "source": [
    "# Вступление\n",
    "\n",
    "Метод линейной регрессии используется для проверки гипотезы наличия линейной связи между двумя или несколькими переменными. Часто при первых использованиях не придаётся достаточной значимости тому, что \n",
    "\n",
    "*   оценивается именно линейная связь, а не другая. \n",
    "*   выбросы сильно влияют на результат оценивания\n",
    "\n",
    "\n",
    "Рассмотрим к чему это может приводить. "
   ]
  },
  {
   "cell_type": "code",
   "execution_count": null,
   "metadata": {
    "id": "92chO0DNqvIy"
   },
   "outputs": [],
   "source": [
    "import numpy as np\n",
    "from sklearn.linear_model import LinearRegression\n",
    "import matplotlib.pyplot as plt"
   ]
  },
  {
   "cell_type": "markdown",
   "metadata": {
    "id": "uGcfVIb6s6VH"
   },
   "source": [
    "## Пример использования регрессии №1\n",
    "\n",
    "В данном соврешенно корректном примере мы рассмотрим как работает регрессия, если всё хорошо. "
   ]
  },
  {
   "cell_type": "code",
   "execution_count": null,
   "metadata": {
    "id": "eqwQ7NEsq9qy"
   },
   "outputs": [],
   "source": [
    "x = np.array([5, 15, 25, 35, 45, 55]).reshape((-1, 1))\n",
    "y = np.array([5, 20, 14, 32, 22, 38])"
   ]
  },
  {
   "cell_type": "code",
   "execution_count": null,
   "metadata": {
    "id": "wV9yQYT8rAp_"
   },
   "outputs": [],
   "source": [
    "model = LinearRegression()"
   ]
  },
  {
   "cell_type": "code",
   "execution_count": null,
   "metadata": {
    "colab": {
     "base_uri": "https://localhost:8080/"
    },
    "id": "9K9-Bia1rE58",
    "outputId": "b2ba92a7-9bb7-43c5-ca3c-27df67bdd045"
   },
   "outputs": [
    {
     "data": {
      "text/plain": [
       "LinearRegression(copy_X=True, fit_intercept=True, n_jobs=None, normalize=False)"
      ]
     },
     "execution_count": 4,
     "metadata": {},
     "output_type": "execute_result"
    }
   ],
   "source": [
    "model.fit(x, y)"
   ]
  },
  {
   "cell_type": "code",
   "execution_count": null,
   "metadata": {
    "colab": {
     "base_uri": "https://localhost:8080/"
    },
    "id": "Lt9KGtj-rHX0",
    "outputId": "3ade8708-4039-4414-f20f-d55d646c4df5"
   },
   "outputs": [
    {
     "data": {
      "text/plain": [
       "0.7158756137479542"
      ]
     },
     "execution_count": 5,
     "metadata": {},
     "output_type": "execute_result"
    }
   ],
   "source": [
    "model.score(x, y)"
   ]
  },
  {
   "cell_type": "code",
   "execution_count": null,
   "metadata": {
    "id": "bjj_nZaNsn2D"
   },
   "outputs": [],
   "source": [
    "y_pred = model.intercept_ + model.coef_ * x"
   ]
  },
  {
   "cell_type": "code",
   "execution_count": null,
   "metadata": {
    "colab": {
     "base_uri": "https://localhost:8080/",
     "height": 299
    },
    "id": "xSe3379fr_tl",
    "outputId": "f5030854-fa92-49fc-c4ce-e283d6b75296"
   },
   "outputs": [
    {
     "data": {
      "text/plain": [
       "[<matplotlib.lines.Line2D at 0x7f8fdec1ced0>,\n",
       " <matplotlib.lines.Line2D at 0x7f8fdec27110>]"
      ]
     },
     "execution_count": 12,
     "metadata": {},
     "output_type": "execute_result"
    },
    {
     "data": {
      "image/png": "[encoded data removed]",
      "text/plain": [
       "<Figure size 432x288 with 1 Axes>"
      ]
     },
     "metadata": {
      "needs_background": "light"
     },
     "output_type": "display_data"
    }
   ],
   "source": [
    "plt.plot(x,y,'or',x, y_pred)"
   ]
  },
  {
   "cell_type": "markdown",
   "metadata": {
    "id": "DR5MpreHs_G-"
   },
   "source": [
    "## Пример использования регрессии №2\n",
    "\n",
    "В данном примере рассмотрим то, как линейная регрессия не повзоляет установить наличие квадратичной связи между переменными. "
   ]
  },
  {
   "cell_type": "code",
   "execution_count": null,
   "metadata": {
    "id": "pDZN0Wqxs-aN"
   },
   "outputs": [],
   "source": [
    "x = np.array([-1, 1, 0]).reshape((-1, 1))\n",
    "y = np.array([0, 0, 1])"
   ]
  },
  {
   "cell_type": "code",
   "execution_count": null,
   "metadata": {
    "colab": {
     "base_uri": "https://localhost:8080/"
    },
    "id": "XJfGZ5GbtMZo",
    "outputId": "6cc1c805-1d06-4273-d93f-20edf666ea3b"
   },
   "outputs": [
    {
     "data": {
      "text/plain": [
       "LinearRegression(copy_X=True, fit_intercept=True, n_jobs=None, normalize=False)"
      ]
     },
     "execution_count": 33,
     "metadata": {},
     "output_type": "execute_result"
    }
   ],
   "source": [
    "model.fit(x, y)"
   ]
  },
  {
   "cell_type": "code",
   "execution_count": null,
   "metadata": {
    "id": "D8t-woUktPeL"
   },
   "outputs": [],
   "source": [
    "y_pred = model.intercept_ + model.coef_ * x"
   ]
  },
  {
   "cell_type": "code",
   "execution_count": null,
   "metadata": {
    "colab": {
     "base_uri": "https://localhost:8080/"
    },
    "id": "rpXtQbZitN3T",
    "outputId": "1714d006-3dac-44e9-c283-afa4585229fd"
   },
   "outputs": [
    {
     "data": {
      "text/plain": [
       "0.0"
      ]
     },
     "execution_count": 35,
     "metadata": {},
     "output_type": "execute_result"
    }
   ],
   "source": [
    "model.score(x, y)"
   ]
  },
  {
   "cell_type": "code",
   "execution_count": null,
   "metadata": {
    "colab": {
     "base_uri": "https://localhost:8080/",
     "height": 299
    },
    "id": "bYcqsPGTtQsB",
    "outputId": "645ba89f-1145-4c79-d13e-f157af1b4772"
   },
   "outputs": [
    {
     "data": {
      "text/plain": [
       "[<matplotlib.lines.Line2D at 0x7f8fde928e50>,\n",
       " <matplotlib.lines.Line2D at 0x7f8fde9350d0>]"
      ]
     },
     "execution_count": 36,
     "metadata": {},
     "output_type": "execute_result"
    },
    {
     "data": {
      "image/png": "[encoded data removed]",
      "text/plain": [
       "<Figure size 432x288 with 1 Axes>"
      ]
     },
     "metadata": {
      "needs_background": "light"
     },
     "output_type": "display_data"
    }
   ],
   "source": [
    "plt.plot(x,y,'or',x, y_pred)"
   ]
  },
  {
   "cell_type": "code",
   "execution_count": null,
   "metadata": {
    "id": "h_YV7TXEtYxy"
   },
   "outputs": [],
   "source": [
    "x = np.arange(-1, 1, 0.0001)\n",
    "y = (1-x**2)**(1/2)"
   ]
  },
  {
   "cell_type": "code",
   "execution_count": null,
   "metadata": {
    "colab": {
     "base_uri": "https://localhost:8080/"
    },
    "id": "MiA_Mtfzt_xK",
    "outputId": "d5b56620-5567-49c2-bb1f-dba116cd7166"
   },
   "outputs": [
    {
     "data": {
      "text/plain": [
       "LinearRegression(copy_X=True, fit_intercept=True, n_jobs=None, normalize=False)"
      ]
     },
     "execution_count": 49,
     "metadata": {},
     "output_type": "execute_result"
    }
   ],
   "source": [
    "model.fit(x.reshape((-1, 1)), y)"
   ]
  },
  {
   "cell_type": "code",
   "execution_count": null,
   "metadata": {
    "id": "qE7WQQkeuFD9"
   },
   "outputs": [],
   "source": [
    "y_pred = model.intercept_ + model.coef_ * x"
   ]
  },
  {
   "cell_type": "code",
   "execution_count": null,
   "metadata": {
    "colab": {
     "base_uri": "https://localhost:8080/"
    },
    "id": "wbO5ZSlxuGCu",
    "outputId": "9c8aab12-1e8b-4545-92a6-77e7628326c7"
   },
   "outputs": [
    {
     "data": {
      "text/plain": [
       "9.283949073624065e-06"
      ]
     },
     "execution_count": 51,
     "metadata": {},
     "output_type": "execute_result"
    }
   ],
   "source": [
    "model.score(x.reshape((-1, 1)), y)"
   ]
  },
  {
   "cell_type": "code",
   "execution_count": null,
   "metadata": {
    "colab": {
     "base_uri": "https://localhost:8080/",
     "height": 299
    },
    "id": "JV-yfZIjuKe8",
    "outputId": "3c1923e0-af58-47cc-9912-f24b2aacd5ef"
   },
   "outputs": [
    {
     "data": {
      "text/plain": [
       "[<matplotlib.lines.Line2D at 0x7f8fdc793950>,\n",
       " <matplotlib.lines.Line2D at 0x7f8fdc793790>]"
      ]
     },
     "execution_count": 52,
     "metadata": {},
     "output_type": "execute_result"
    },
    {
     "data": {
      "image/png": "[encoded data removed]",
      "text/plain": [
       "<Figure size 432x288 with 1 Axes>"
      ]
     },
     "metadata": {
      "needs_background": "light"
     },
     "output_type": "display_data"
    }
   ],
   "source": [
    "plt.plot(x,y,'or',x, y_pred)"
   ]
  },
  {
   "cell_type": "markdown",
   "metadata": {
    "id": "i1JVIHYVvbwj"
   },
   "source": [
    "## Пример №3\n",
    "\n",
    "В данном примере рассмотри то, как влияют выбросы на оценку качества зависимости. "
   ]
  },
  {
   "cell_type": "code",
   "execution_count": null,
   "metadata": {
    "id": "1kN_aVf4vkne"
   },
   "outputs": [],
   "source": [
    "x = np.array([0, 0, 0, 0, 0, 0, 0, 100]).reshape((-1, 1))\n",
    "y = np.array([0, 1, 2, 3, 4, 5, 6, 100])"
   ]
  },
  {
   "cell_type": "code",
   "execution_count": null,
   "metadata": {
    "colab": {
     "base_uri": "https://localhost:8080/"
    },
    "id": "D6iysrJQvtXq",
    "outputId": "915ab916-ed41-4a04-c68b-87b35fec30a4"
   },
   "outputs": [
    {
     "data": {
      "text/plain": [
       "LinearRegression(copy_X=True, fit_intercept=True, n_jobs=None, normalize=False)"
      ]
     },
     "execution_count": 63,
     "metadata": {},
     "output_type": "execute_result"
    }
   ],
   "source": [
    "model.fit(x, y)"
   ]
  },
  {
   "cell_type": "markdown",
   "metadata": {
    "id": "yGXqWCZevyFR"
   },
   "source": [
    "Обратие внимание, значение коэффициента регрессии - практически едиинца. "
   ]
  },
  {
   "cell_type": "code",
   "execution_count": null,
   "metadata": {
    "colab": {
     "base_uri": "https://localhost:8080/"
    },
    "id": "bHgQkoeWvvj4",
    "outputId": "28308347-b164-48ee-8520-9a8ed66c408d"
   },
   "outputs": [
    {
     "data": {
      "text/plain": [
       "0.9966105285457049"
      ]
     },
     "execution_count": 64,
     "metadata": {},
     "output_type": "execute_result"
    }
   ],
   "source": [
    "model.score(x, y)"
   ]
  },
  {
   "cell_type": "code",
   "execution_count": null,
   "metadata": {
    "id": "O7E38t76v5lo"
   },
   "outputs": [],
   "source": [
    "y_pred = model.intercept_ + model.coef_ * x"
   ]
  },
  {
   "cell_type": "code",
   "execution_count": null,
   "metadata": {
    "colab": {
     "base_uri": "https://localhost:8080/",
     "height": 299
    },
    "id": "HjX3vLDSv7Zd",
    "outputId": "0e4dbb62-9f62-469b-e293-366c995db5f2"
   },
   "outputs": [
    {
     "data": {
      "text/plain": [
       "[<matplotlib.lines.Line2D at 0x7f8fdc702390>,\n",
       " <matplotlib.lines.Line2D at 0x7f8fdc7021d0>]"
      ]
     },
     "execution_count": 66,
     "metadata": {},
     "output_type": "execute_result"
    },
    {
     "data": {
      "image/png": "[encoded data removed]",
      "text/plain": [
       "<Figure size 432x288 with 1 Axes>"
      ]
     },
     "metadata": {
      "needs_background": "light"
     },
     "output_type": "display_data"
    }
   ],
   "source": [
    "plt.plot(x,y,'or',x, y_pred)"
   ]
  },
  {
   "cell_type": "markdown",
   "metadata": {
    "id": "jePHTnvKwef9"
   },
   "source": [
    "# Выводы\n",
    "При использовании регрессионного анализа необходимо всегда использовать методы визуализации данных, чтобы \"глазами\" оценить качество построенной регрессионной модели. Нельзя полагаться только на математические оценки. Иногда можно увидеть, что зависимость есть, когда регрессия говорит, что её нет. Иногда можно увидеть, что построенная зависимость соверешнно некорректна, не смотря на то, что коэффициент регрессии близок к максимальному. "
   ]
  }
 ],
 "metadata": {
  "colab": {
   "name": "Ошибки регрессии.ipynb",
   "provenance": []
  },
  "kernelspec": {
   "display_name": "Python 3 (ipykernel)",
   "language": "python",
   "name": "python3"
  },
  "language_info": {
   "codemirror_mode": {
    "name": "ipython",
    "version": 3
   },
   "file_extension": ".py",
   "mimetype": "text/x-python",
   "name": "python",
   "nbconvert_exporter": "python",
   "pygments_lexer": "ipython3",
   "version": "3.8.10"
  }
 },
 "nbformat": 4,
 "nbformat_minor": 1
}
