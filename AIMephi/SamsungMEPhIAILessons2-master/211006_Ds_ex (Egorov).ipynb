{
 "cells": [
  {
   "cell_type": "markdown",
   "metadata": {
    "id": "QGCbd5uk3ZiL"
   },
   "source": [
    "# Используемые библиотеки"
   ]
  },
  {
   "cell_type": "code",
   "execution_count": 1,
   "metadata": {
    "colab": {
     "base_uri": "https://localhost:8080/",
     "height": 54
    },
    "id": "PAcpQ0sOzx_R",
    "outputId": "290fce07-30c4-4e16-b18f-c86ccf2369fa"
   },
   "outputs": [],
   "source": [
    "import gc # сборщик мусора\n",
    "\n",
    "import matplotlib.pyplot as plt\n",
    "import matplotlib.image as img\n",
    "import seaborn as sns\n",
    "%matplotlib inline\n",
    "import numpy as np \n",
    "import pandas as pd \n",
    "\n",
    "from sklearn.model_selection import train_test_split\n",
    "\n",
    "from sklearn.metrics import mean_squared_error as mse, r2_score as r2\n",
    "\n",
    "from lightgbm import LGBMRegressor\n",
    "\n",
    "#https://www.kaggle.com/camnugent/geospatial-feature-engineering-and-visualization"
   ]
  },
  {
   "cell_type": "markdown",
   "metadata": {
    "id": "es8cAtS0L952"
   },
   "source": [
    "1) Выгрузка данных\n",
    "2) Работа с данными\n",
    "3) Обучение и тренировка\n",
    "4) Обучение финальной модели"
   ]
  },
  {
   "cell_type": "markdown",
   "metadata": {
    "id": "DL3l_Xc_3hpM"
   },
   "source": [
    "# Функции, используемые в коде"
   ]
  },
  {
   "cell_type": "code",
   "execution_count": 2,
   "metadata": {
    "id": "7dqDcp-j5vmp"
   },
   "outputs": [],
   "source": [
    "def reduce_mem_usage(df):\n",
    "    \"\"\" iterate through all the columns of a dataframe and modify the data type\n",
    "        to reduce memory usage.        \n",
    "    \"\"\"\n",
    "    start_mem = df.memory_usage().sum() / 1024**2\n",
    "    print('Memory usage of dataframe is {:.2f} MB'.format(start_mem))\n",
    "    \n",
    "    for col in df.columns:\n",
    "        col_type = df[col].dtype\n",
    "        \n",
    "        if col_type != object:\n",
    "            c_min = df[col].min()\n",
    "            c_max = df[col].max()\n",
    "            if str(col_type)[:3] == 'int':\n",
    "                if c_min > np.iinfo(np.int8).min and c_max < np.iinfo(np.int8).max:\n",
    "                    df[col] = df[col].astype(np.int8)\n",
    "                elif c_min > np.iinfo(np.int16).min and c_max < np.iinfo(np.int16).max:\n",
    "                    df[col] = df[col].astype(np.int16)\n",
    "                elif c_min > np.iinfo(np.int32).min and c_max < np.iinfo(np.int32).max:\n",
    "                    df[col] = df[col].astype(np.int32)\n",
    "                elif c_min > np.iinfo(np.int64).min and c_max < np.iinfo(np.int64).max:\n",
    "                    df[col] = df[col].astype(np.int64)  \n",
    "            else:\n",
    "#                 if c_min > np.finfo(np.float16).min and c_max < np.finfo(np.float16).max:\n",
    "#                     df[col] = df[col].astype(np.float16)\n",
    "#                 elif\n",
    "\n",
    "                if c_min > np.finfo(np.float32).min and c_max < np.finfo(np.float32).max:\n",
    "                    df[col] = df[col].astype(np.float32)\n",
    "                else:\n",
    "                    df[col] = df[col].astype(np.float64)\n",
    "        else:\n",
    "            df[col] = df[col].astype('category')\n",
    "\n",
    "    end_mem = df.memory_usage().sum() / 1024**2\n",
    "    print('Memory usage after optimization is: {:.2f} MB'.format(end_mem))\n",
    "    print('Decreased by {:.1f}%'.format(100 * (start_mem - end_mem) / start_mem))\n",
    "    \n",
    "    return df"
   ]
  },
  {
   "cell_type": "code",
   "execution_count": 3,
   "metadata": {
    "id": "4aW8gxMnGNZM"
   },
   "outputs": [],
   "source": [
    "def nan_analize(X):\n",
    "    nan_df = (X.isna().sum() / X.shape[0]).reset_index()\n",
    "    nan_df.columns=['feature', 'nan_percent']\n",
    "\n",
    "    plt.figure(figsize=(16,4))\n",
    "    sns.barplot(nan_df['feature'], nan_df['nan_percent'])\n",
    "    plt.title('Percent Missing')\n",
    "    plt.ylabel('Missing', fontsize=12)\n",
    "    plt.xlabel('Features', fontsize=12)\n",
    "    plt.xticks(rotation=90)\n",
    "    plt.show()"
   ]
  },
  {
   "cell_type": "code",
   "execution_count": 4,
   "metadata": {
    "id": "qp4QAf-sK_my"
   },
   "outputs": [],
   "source": [
    "def evaluate_preds(true_values, pred_values, save=False):\n",
    "    \"\"\"Оценка качества модели и график preds vs true\"\"\"\n",
    "    \n",
    "    print(\"R2:\\t\" + str(round(r2(true_values, pred_values), 5)) + \"\\n\" +\n",
    "          \"RMSE:\\t\" + str(round(np.sqrt(mse(true_values, pred_values)), 3)) + \"\\n\" +\n",
    "          \"MSE:\\t\" + str(round(mse(true_values, pred_values), 3))\n",
    "         )\n",
    "    \n",
    "    plt.figure(figsize=(8,8))\n",
    "    \n",
    "    sns.scatterplot(x=pred_values, y=true_values)\n",
    "    plt.plot([0, 500000], [0, 500000], linestyle='--', color='black')  # диагональ, где true_values = pred_values\n",
    "    \n",
    "    plt.xlabel('Predicted values')\n",
    "    plt.ylabel('True values')\n",
    "    plt.title('True vs Predicted values')\n",
    "    \n",
    "    if save == True:\n",
    "        plt.savefig(REPORTS_FILE_PATH + 'report.png')\n",
    "    plt.show()"
   ]
  },
  {
   "cell_type": "code",
   "execution_count": 5,
   "metadata": {
    "id": "yf1mh086L2Sh"
   },
   "outputs": [],
   "source": [
    "def plot_feature_importances(importances, X):\n",
    "    \n",
    "    indices = np.argsort(importances)[::-1]\n",
    "\n",
    "    plt.figure(figsize = (20, 6))\n",
    "    plt.title(\"Feature importances\", fontsize=16)\n",
    "    plt.bar(range(X.shape[1]), importances[indices] / importances.sum(),\n",
    "           color=\"darkblue\", align=\"center\")\n",
    "    plt.xticks(range(X.shape[1]), X.columns[indices], rotation = 90, fontsize=14)\n",
    "    plt.xlim([-1, X.shape[1]])\n",
    "\n",
    "    plt.tight_layout()\n",
    "    # plt.savefig('fe.jpg')\n",
    "    plt.show()"
   ]
  },
  {
   "cell_type": "code",
   "execution_count": 12,
   "metadata": {},
   "outputs": [
    {
     "name": "stdout",
     "output_type": "stream",
     "text": [
      "C:\\Users\\Ђ«ҐЄбҐ©\n"
     ]
    }
   ],
   "source": [
    "!cd "
   ]
  },
  {
   "cell_type": "markdown",
   "metadata": {
    "id": "6u56_qVY3eHc"
   },
   "source": [
    "# Загрузка данных"
   ]
  },
  {
   "cell_type": "code",
   "execution_count": 50,
   "metadata": {
    "colab": {
     "base_uri": "https://localhost:8080/",
     "height": 198
    },
    "id": "XHM7u08lEB1d",
    "outputId": "ad3d832e-14b8-46fc-db4b-86b3d79a4644"
   },
   "outputs": [
    {
     "data": {
      "text/html": [
       "<div>\n",
       "<style scoped>\n",
       "    .dataframe tbody tr th:only-of-type {\n",
       "        vertical-align: middle;\n",
       "    }\n",
       "\n",
       "    .dataframe tbody tr th {\n",
       "        vertical-align: top;\n",
       "    }\n",
       "\n",
       "    .dataframe thead th {\n",
       "        text-align: right;\n",
       "    }\n",
       "</style>\n",
       "<table border=\"1\" class=\"dataframe\">\n",
       "  <thead>\n",
       "    <tr style=\"text-align: right;\">\n",
       "      <th></th>\n",
       "      <th>Id</th>\n",
       "      <th>longitude</th>\n",
       "      <th>latitude</th>\n",
       "      <th>housing_median_age</th>\n",
       "      <th>total_rooms</th>\n",
       "      <th>total_bedrooms</th>\n",
       "      <th>population</th>\n",
       "      <th>households</th>\n",
       "      <th>median_income</th>\n",
       "      <th>ocean_proximity</th>\n",
       "      <th>median_house_value</th>\n",
       "    </tr>\n",
       "  </thead>\n",
       "  <tbody>\n",
       "    <tr>\n",
       "      <th>0</th>\n",
       "      <td>9797</td>\n",
       "      <td>-121.92</td>\n",
       "      <td>36.57</td>\n",
       "      <td>42.0</td>\n",
       "      <td>3944.0</td>\n",
       "      <td>738.0</td>\n",
       "      <td>1374.0</td>\n",
       "      <td>598.0</td>\n",
       "      <td>4.1740</td>\n",
       "      <td>NEAR OCEAN</td>\n",
       "      <td>394400.0</td>\n",
       "    </tr>\n",
       "    <tr>\n",
       "      <th>1</th>\n",
       "      <td>20618</td>\n",
       "      <td>-121.55</td>\n",
       "      <td>39.06</td>\n",
       "      <td>25.0</td>\n",
       "      <td>1332.0</td>\n",
       "      <td>247.0</td>\n",
       "      <td>726.0</td>\n",
       "      <td>226.0</td>\n",
       "      <td>2.2500</td>\n",
       "      <td>INLAND</td>\n",
       "      <td>63400.0</td>\n",
       "    </tr>\n",
       "    <tr>\n",
       "      <th>2</th>\n",
       "      <td>19139</td>\n",
       "      <td>-122.71</td>\n",
       "      <td>38.33</td>\n",
       "      <td>13.0</td>\n",
       "      <td>4011.0</td>\n",
       "      <td>936.0</td>\n",
       "      <td>2064.0</td>\n",
       "      <td>914.0</td>\n",
       "      <td>3.6953</td>\n",
       "      <td>&lt;1H OCEAN</td>\n",
       "      <td>157600.0</td>\n",
       "    </tr>\n",
       "    <tr>\n",
       "      <th>3</th>\n",
       "      <td>6996</td>\n",
       "      <td>-118.03</td>\n",
       "      <td>33.95</td>\n",
       "      <td>34.0</td>\n",
       "      <td>1882.0</td>\n",
       "      <td>428.0</td>\n",
       "      <td>1034.0</td>\n",
       "      <td>375.0</td>\n",
       "      <td>3.6509</td>\n",
       "      <td>&lt;1H OCEAN</td>\n",
       "      <td>173200.0</td>\n",
       "    </tr>\n",
       "    <tr>\n",
       "      <th>4</th>\n",
       "      <td>840</td>\n",
       "      <td>-122.06</td>\n",
       "      <td>37.60</td>\n",
       "      <td>18.0</td>\n",
       "      <td>1726.0</td>\n",
       "      <td>276.0</td>\n",
       "      <td>1186.0</td>\n",
       "      <td>310.0</td>\n",
       "      <td>5.3226</td>\n",
       "      <td>NEAR BAY</td>\n",
       "      <td>231700.0</td>\n",
       "    </tr>\n",
       "    <tr>\n",
       "      <th>5</th>\n",
       "      <td>8840</td>\n",
       "      <td>-118.38</td>\n",
       "      <td>34.08</td>\n",
       "      <td>48.0</td>\n",
       "      <td>1226.0</td>\n",
       "      <td>288.0</td>\n",
       "      <td>370.0</td>\n",
       "      <td>264.0</td>\n",
       "      <td>3.9375</td>\n",
       "      <td>&lt;1H OCEAN</td>\n",
       "      <td>450000.0</td>\n",
       "    </tr>\n",
       "    <tr>\n",
       "      <th>6</th>\n",
       "      <td>12793</td>\n",
       "      <td>-121.45</td>\n",
       "      <td>38.64</td>\n",
       "      <td>NaN</td>\n",
       "      <td>1481.0</td>\n",
       "      <td>343.0</td>\n",
       "      <td>1079.0</td>\n",
       "      <td>315.0</td>\n",
       "      <td>1.8670</td>\n",
       "      <td>INLAND</td>\n",
       "      <td>60600.0</td>\n",
       "    </tr>\n",
       "    <tr>\n",
       "      <th>7</th>\n",
       "      <td>4571</td>\n",
       "      <td>-118.27</td>\n",
       "      <td>34.07</td>\n",
       "      <td>34.0</td>\n",
       "      <td>786.0</td>\n",
       "      <td>341.0</td>\n",
       "      <td>1239.0</td>\n",
       "      <td>320.0</td>\n",
       "      <td>2.3438</td>\n",
       "      <td>&lt;1H OCEAN</td>\n",
       "      <td>152100.0</td>\n",
       "    </tr>\n",
       "    <tr>\n",
       "      <th>8</th>\n",
       "      <td>11510</td>\n",
       "      <td>-118.10</td>\n",
       "      <td>33.74</td>\n",
       "      <td>31.0</td>\n",
       "      <td>1310.0</td>\n",
       "      <td>342.0</td>\n",
       "      <td>563.0</td>\n",
       "      <td>310.0</td>\n",
       "      <td>4.6528</td>\n",
       "      <td>NEAR OCEAN</td>\n",
       "      <td>457100.0</td>\n",
       "    </tr>\n",
       "    <tr>\n",
       "      <th>9</th>\n",
       "      <td>3094</td>\n",
       "      <td>-118.45</td>\n",
       "      <td>35.58</td>\n",
       "      <td>NaN</td>\n",
       "      <td>5396.0</td>\n",
       "      <td>1182.0</td>\n",
       "      <td>1802.0</td>\n",
       "      <td>807.0</td>\n",
       "      <td>1.8819</td>\n",
       "      <td>INLAND</td>\n",
       "      <td>69700.0</td>\n",
       "    </tr>\n",
       "  </tbody>\n",
       "</table>\n",
       "</div>"
      ],
      "text/plain": [
       "     Id   longitude  latitude  housing_median_age  total_rooms  \\\n",
       "0   9797    -121.92     36.57                42.0       3944.0   \n",
       "1  20618    -121.55     39.06                25.0       1332.0   \n",
       "2  19139    -122.71     38.33                13.0       4011.0   \n",
       "3   6996    -118.03     33.95                34.0       1882.0   \n",
       "4    840    -122.06     37.60                18.0       1726.0   \n",
       "5   8840    -118.38     34.08                48.0       1226.0   \n",
       "6  12793    -121.45     38.64                 NaN       1481.0   \n",
       "7   4571    -118.27     34.07                34.0        786.0   \n",
       "8  11510    -118.10     33.74                31.0       1310.0   \n",
       "9   3094    -118.45     35.58                 NaN       5396.0   \n",
       "\n",
       "   total_bedrooms  population  households  median_income ocean_proximity  \\\n",
       "0           738.0      1374.0       598.0         4.1740      NEAR OCEAN   \n",
       "1           247.0       726.0       226.0         2.2500          INLAND   \n",
       "2           936.0      2064.0       914.0         3.6953       <1H OCEAN   \n",
       "3           428.0      1034.0       375.0         3.6509       <1H OCEAN   \n",
       "4           276.0      1186.0       310.0         5.3226        NEAR BAY   \n",
       "5           288.0       370.0       264.0         3.9375       <1H OCEAN   \n",
       "6           343.0      1079.0       315.0         1.8670          INLAND   \n",
       "7           341.0      1239.0       320.0         2.3438       <1H OCEAN   \n",
       "8           342.0       563.0       310.0         4.6528      NEAR OCEAN   \n",
       "9          1182.0      1802.0       807.0         1.8819          INLAND   \n",
       "\n",
       "   median_house_value  \n",
       "0            394400.0  \n",
       "1             63400.0  \n",
       "2            157600.0  \n",
       "3            173200.0  \n",
       "4            231700.0  \n",
       "5            450000.0  \n",
       "6             60600.0  \n",
       "7            152100.0  \n",
       "8            457100.0  \n",
       "9             69700.0  "
      ]
     },
     "execution_count": 50,
     "metadata": {},
     "output_type": "execute_result"
    }
   ],
   "source": [
    "df = pd.read_csv('train_data.csv')\n",
    "df.head(10)"
   ]
  },
  {
   "cell_type": "code",
   "execution_count": 16,
   "metadata": {
    "colab": {
     "base_uri": "https://localhost:8080/",
     "height": 90
    },
    "id": "x4PQvkCuEgBk",
    "outputId": "ab6d0124-8477-489a-cecf-3cedd0b66818"
   },
   "outputs": [
    {
     "data": {
      "text/plain": [
       "Index(['Id ', 'longitude', 'latitude', 'housing_median_age', 'total_rooms',\n",
       "       'total_bedrooms', 'population', 'households', 'median_income',\n",
       "       'ocean_proximity', 'median_house_value'],\n",
       "      dtype='object')"
      ]
     },
     "execution_count": 16,
     "metadata": {},
     "output_type": "execute_result"
    }
   ],
   "source": [
    "df.columns"
   ]
  },
  {
   "cell_type": "code",
   "execution_count": 51,
   "metadata": {
    "colab": {
     "base_uri": "https://localhost:8080/",
     "height": 72
    },
    "id": "pkFCb1qm1LXG",
    "outputId": "04c86260-b401-487c-e293-6cf39758f281"
   },
   "outputs": [
    {
     "name": "stdout",
     "output_type": "stream",
     "text": [
      "Строк в трейне: 9679\n"
     ]
    }
   ],
   "source": [
    "X = df.drop('median_house_value', axis=1)\n",
    "y = df[['Id ', 'median_house_value']]\n",
    "\n",
    "X.set_index('Id ', inplace=True)\n",
    "y.set_index('Id ', inplace=True)\n",
    "\n",
    "print('Строк в трейне:' ,  X.shape[0])\n",
    "\n",
    "# Удалим ненужные файлы\n",
    "#del df\n",
    "#gc.collect()  "
   ]
  },
  {
   "cell_type": "code",
   "execution_count": 52,
   "metadata": {
    "id": "bPgaIclt3UYR"
   },
   "outputs": [
    {
     "name": "stdout",
     "output_type": "stream",
     "text": [
      "Строк в тесте 4149\n"
     ]
    }
   ],
   "source": [
    "X_final = pd.read_csv('test_data.csv')\n",
    "X_final.set_index('Id ', inplace=True)\n",
    "final_index_list = X_final.index\n",
    "\n",
    "print('Строк в тесте', X_final.shape[0])"
   ]
  },
  {
   "cell_type": "code",
   "execution_count": 53,
   "metadata": {
    "colab": {
     "base_uri": "https://localhost:8080/",
     "height": 72
    },
    "id": "h0j5dUr9532H",
    "outputId": "16924d2e-28b7-46fb-bd84-74b9b77a30b9"
   },
   "outputs": [
    {
     "name": "stdout",
     "output_type": "stream",
     "text": [
      "Memory usage of dataframe is 0.74 MB\n",
      "Memory usage after optimization is: 0.38 MB\n",
      "Decreased by 48.7%\n"
     ]
    }
   ],
   "source": [
    "X = reduce_mem_usage(X)"
   ]
  },
  {
   "cell_type": "code",
   "execution_count": 54,
   "metadata": {
    "colab": {
     "base_uri": "https://localhost:8080/",
     "height": 72
    },
    "id": "yi89LDW356cb",
    "outputId": "8fd1f1ec-fc08-4877-aab9-e032976e0ba6"
   },
   "outputs": [
    {
     "name": "stdout",
     "output_type": "stream",
     "text": [
      "Memory usage of dataframe is 0.32 MB\n",
      "Memory usage after optimization is: 0.16 MB\n",
      "Decreased by 48.7%\n"
     ]
    }
   ],
   "source": [
    "X_final = reduce_mem_usage(X_final)"
   ]
  },
  {
   "cell_type": "markdown",
   "metadata": {
    "id": "TyKHH9ZI6_HH"
   },
   "source": [
    "# Смотрим данные (EDA)"
   ]
  },
  {
   "cell_type": "markdown",
   "metadata": {
    "id": "LVKf-P4t7_IX"
   },
   "source": [
    "**Описание датасета**\n",
    "\n",
    "Статистические данные о ряде домов в Калифорнии, основанные на переписи 1990 года.\n",
    "\n",
    "* **longitude** - долгота\n",
    "* **latitude** - широта\n",
    "* **housing_median_age** - средний возраст дома\n",
    "* **total_rooms** - общее количество комнат\n",
    "* **total_bedrooms** - общее количество спален\n",
    "* **population** - количество проживающих\n",
    "* **households** - домохозяйства\n",
    "* **ocean_proximity** - близость океана\n",
    "* **median_income** - средний доход\n",
    "* **median_house_value** - средняя стоимость дома"
   ]
  },
  {
   "cell_type": "code",
   "execution_count": 24,
   "metadata": {
    "colab": {
     "base_uri": "https://localhost:8080/",
     "height": 228
    },
    "id": "-JgfMX5s7Bca",
    "outputId": "36d10ce9-cd3d-4730-8066-b4820e6fdb70"
   },
   "outputs": [
    {
     "data": {
      "text/html": [
       "<div>\n",
       "<style scoped>\n",
       "    .dataframe tbody tr th:only-of-type {\n",
       "        vertical-align: middle;\n",
       "    }\n",
       "\n",
       "    .dataframe tbody tr th {\n",
       "        vertical-align: top;\n",
       "    }\n",
       "\n",
       "    .dataframe thead th {\n",
       "        text-align: right;\n",
       "    }\n",
       "</style>\n",
       "<table border=\"1\" class=\"dataframe\">\n",
       "  <thead>\n",
       "    <tr style=\"text-align: right;\">\n",
       "      <th></th>\n",
       "      <th>longitude</th>\n",
       "      <th>latitude</th>\n",
       "      <th>housing_median_age</th>\n",
       "      <th>total_rooms</th>\n",
       "      <th>total_bedrooms</th>\n",
       "      <th>population</th>\n",
       "      <th>households</th>\n",
       "      <th>median_income</th>\n",
       "      <th>ocean_proximity</th>\n",
       "    </tr>\n",
       "    <tr>\n",
       "      <th>Id</th>\n",
       "      <th></th>\n",
       "      <th></th>\n",
       "      <th></th>\n",
       "      <th></th>\n",
       "      <th></th>\n",
       "      <th></th>\n",
       "      <th></th>\n",
       "      <th></th>\n",
       "      <th></th>\n",
       "    </tr>\n",
       "  </thead>\n",
       "  <tbody>\n",
       "    <tr>\n",
       "      <th>9797</th>\n",
       "      <td>-121.919998</td>\n",
       "      <td>36.570000</td>\n",
       "      <td>42.0</td>\n",
       "      <td>3944.0</td>\n",
       "      <td>738.0</td>\n",
       "      <td>1374.0</td>\n",
       "      <td>598.0</td>\n",
       "      <td>4.1740</td>\n",
       "      <td>NEAR OCEAN</td>\n",
       "    </tr>\n",
       "    <tr>\n",
       "      <th>20618</th>\n",
       "      <td>-121.550003</td>\n",
       "      <td>39.060001</td>\n",
       "      <td>25.0</td>\n",
       "      <td>1332.0</td>\n",
       "      <td>247.0</td>\n",
       "      <td>726.0</td>\n",
       "      <td>226.0</td>\n",
       "      <td>2.2500</td>\n",
       "      <td>INLAND</td>\n",
       "    </tr>\n",
       "    <tr>\n",
       "      <th>19139</th>\n",
       "      <td>-122.709999</td>\n",
       "      <td>38.330002</td>\n",
       "      <td>13.0</td>\n",
       "      <td>4011.0</td>\n",
       "      <td>936.0</td>\n",
       "      <td>2064.0</td>\n",
       "      <td>914.0</td>\n",
       "      <td>3.6953</td>\n",
       "      <td>&lt;1H OCEAN</td>\n",
       "    </tr>\n",
       "    <tr>\n",
       "      <th>6996</th>\n",
       "      <td>-118.029999</td>\n",
       "      <td>33.950001</td>\n",
       "      <td>34.0</td>\n",
       "      <td>1882.0</td>\n",
       "      <td>428.0</td>\n",
       "      <td>1034.0</td>\n",
       "      <td>375.0</td>\n",
       "      <td>3.6509</td>\n",
       "      <td>&lt;1H OCEAN</td>\n",
       "    </tr>\n",
       "    <tr>\n",
       "      <th>840</th>\n",
       "      <td>-122.059998</td>\n",
       "      <td>37.599998</td>\n",
       "      <td>18.0</td>\n",
       "      <td>1726.0</td>\n",
       "      <td>276.0</td>\n",
       "      <td>1186.0</td>\n",
       "      <td>310.0</td>\n",
       "      <td>5.3226</td>\n",
       "      <td>NEAR BAY</td>\n",
       "    </tr>\n",
       "  </tbody>\n",
       "</table>\n",
       "</div>"
      ],
      "text/plain": [
       "        longitude   latitude  housing_median_age  total_rooms  total_bedrooms  \\\n",
       "Id                                                                              \n",
       "9797  -121.919998  36.570000                42.0       3944.0           738.0   \n",
       "20618 -121.550003  39.060001                25.0       1332.0           247.0   \n",
       "19139 -122.709999  38.330002                13.0       4011.0           936.0   \n",
       "6996  -118.029999  33.950001                34.0       1882.0           428.0   \n",
       "840   -122.059998  37.599998                18.0       1726.0           276.0   \n",
       "\n",
       "       population  households  median_income ocean_proximity  \n",
       "Id                                                            \n",
       "9797       1374.0       598.0         4.1740      NEAR OCEAN  \n",
       "20618       726.0       226.0         2.2500          INLAND  \n",
       "19139      2064.0       914.0         3.6953       <1H OCEAN  \n",
       "6996       1034.0       375.0         3.6509       <1H OCEAN  \n",
       "840        1186.0       310.0         5.3226        NEAR BAY  "
      ]
     },
     "execution_count": 24,
     "metadata": {},
     "output_type": "execute_result"
    }
   ],
   "source": [
    "X.head()"
   ]
  },
  {
   "cell_type": "code",
   "execution_count": 25,
   "metadata": {},
   "outputs": [
    {
     "name": "stdout",
     "output_type": "stream",
     "text": [
      "<class 'pandas.core.frame.DataFrame'>\n",
      "Int64Index: 9679 entries, 9797 to 1680\n",
      "Data columns (total 9 columns):\n",
      " #   Column              Non-Null Count  Dtype   \n",
      "---  ------              --------------  -----   \n",
      " 0   longitude           9679 non-null   float32 \n",
      " 1   latitude            9679 non-null   float32 \n",
      " 2   housing_median_age  9349 non-null   float32 \n",
      " 3   total_rooms         9679 non-null   float32 \n",
      " 4   total_bedrooms      9679 non-null   float32 \n",
      " 5   population          9405 non-null   float32 \n",
      " 6   households          9679 non-null   float32 \n",
      " 7   median_income       9679 non-null   float32 \n",
      " 8   ocean_proximity     9679 non-null   category\n",
      "dtypes: category(1), float32(8)\n",
      "memory usage: 387.8 KB\n"
     ]
    }
   ],
   "source": [
    "X.info()"
   ]
  },
  {
   "cell_type": "code",
   "execution_count": 26,
   "metadata": {
    "colab": {
     "base_uri": "https://localhost:8080/",
     "height": 90
    },
    "id": "IaXc_rsJ3Wt3",
    "outputId": "0ef294c4-503a-4ccb-ca7b-87ead56d1f14"
   },
   "outputs": [
    {
     "data": {
      "text/plain": [
       "Index(['longitude', 'latitude', 'housing_median_age', 'total_rooms',\n",
       "       'total_bedrooms', 'population', 'households', 'median_income',\n",
       "       'ocean_proximity'],\n",
       "      dtype='object')"
      ]
     },
     "execution_count": 26,
     "metadata": {},
     "output_type": "execute_result"
    }
   ],
   "source": [
    "X.columns"
   ]
  },
  {
   "cell_type": "code",
   "execution_count": 27,
   "metadata": {
    "colab": {
     "base_uri": "https://localhost:8080/",
     "height": 35
    },
    "id": "aSTXlMZF9Rlk",
    "outputId": "d94f4f71-978d-4bbd-b62c-32ee210d9afc"
   },
   "outputs": [
    {
     "data": {
      "text/plain": [
       "(9679, 9)"
      ]
     },
     "execution_count": 27,
     "metadata": {},
     "output_type": "execute_result"
    }
   ],
   "source": [
    "X.shape"
   ]
  },
  {
   "cell_type": "code",
   "execution_count": 28,
   "metadata": {
    "colab": {
     "base_uri": "https://localhost:8080/",
     "height": 138
    },
    "id": "tp8g_-vN-SwE",
    "outputId": "f576ffb1-7125-42be-d5cf-375d267f01f1"
   },
   "outputs": [
    {
     "data": {
      "text/html": [
       "<div>\n",
       "<style scoped>\n",
       "    .dataframe tbody tr th:only-of-type {\n",
       "        vertical-align: middle;\n",
       "    }\n",
       "\n",
       "    .dataframe tbody tr th {\n",
       "        vertical-align: top;\n",
       "    }\n",
       "\n",
       "    .dataframe thead th {\n",
       "        text-align: right;\n",
       "    }\n",
       "</style>\n",
       "<table border=\"1\" class=\"dataframe\">\n",
       "  <thead>\n",
       "    <tr style=\"text-align: right;\">\n",
       "      <th></th>\n",
       "      <th>longitude</th>\n",
       "      <th>latitude</th>\n",
       "    </tr>\n",
       "    <tr>\n",
       "      <th>Id</th>\n",
       "      <th></th>\n",
       "      <th></th>\n",
       "    </tr>\n",
       "  </thead>\n",
       "  <tbody>\n",
       "    <tr>\n",
       "      <th>9797</th>\n",
       "      <td>-121.919998</td>\n",
       "      <td>36.570000</td>\n",
       "    </tr>\n",
       "    <tr>\n",
       "      <th>20618</th>\n",
       "      <td>-121.550003</td>\n",
       "      <td>39.060001</td>\n",
       "    </tr>\n",
       "    <tr>\n",
       "      <th>19139</th>\n",
       "      <td>-122.709999</td>\n",
       "      <td>38.330002</td>\n",
       "    </tr>\n",
       "    <tr>\n",
       "      <th>6996</th>\n",
       "      <td>-118.029999</td>\n",
       "      <td>33.950001</td>\n",
       "    </tr>\n",
       "    <tr>\n",
       "      <th>840</th>\n",
       "      <td>-122.059998</td>\n",
       "      <td>37.599998</td>\n",
       "    </tr>\n",
       "  </tbody>\n",
       "</table>\n",
       "</div>"
      ],
      "text/plain": [
       "        longitude   latitude\n",
       "Id                          \n",
       "9797  -121.919998  36.570000\n",
       "20618 -121.550003  39.060001\n",
       "19139 -122.709999  38.330002\n",
       "6996  -118.029999  33.950001\n",
       "840   -122.059998  37.599998"
      ]
     },
     "execution_count": 28,
     "metadata": {},
     "output_type": "execute_result"
    }
   ],
   "source": [
    "X[['longitude', 'latitude']].head(5)"
   ]
  },
  {
   "cell_type": "code",
   "execution_count": 29,
   "metadata": {
    "colab": {
     "base_uri": "https://localhost:8080/",
     "height": 138
    },
    "id": "LLeQksWc-bK3",
    "outputId": "733ad16e-219e-4e05-9960-0ed3594d6b08"
   },
   "outputs": [
    {
     "data": {
      "text/html": [
       "<div>\n",
       "<style scoped>\n",
       "    .dataframe tbody tr th:only-of-type {\n",
       "        vertical-align: middle;\n",
       "    }\n",
       "\n",
       "    .dataframe tbody tr th {\n",
       "        vertical-align: top;\n",
       "    }\n",
       "\n",
       "    .dataframe thead th {\n",
       "        text-align: right;\n",
       "    }\n",
       "</style>\n",
       "<table border=\"1\" class=\"dataframe\">\n",
       "  <thead>\n",
       "    <tr style=\"text-align: right;\">\n",
       "      <th></th>\n",
       "      <th>longitude</th>\n",
       "      <th>latitude</th>\n",
       "      <th>housing_median_age</th>\n",
       "      <th>total_rooms</th>\n",
       "      <th>total_bedrooms</th>\n",
       "      <th>population</th>\n",
       "      <th>households</th>\n",
       "      <th>median_income</th>\n",
       "      <th>ocean_proximity</th>\n",
       "    </tr>\n",
       "    <tr>\n",
       "      <th>Id</th>\n",
       "      <th></th>\n",
       "      <th></th>\n",
       "      <th></th>\n",
       "      <th></th>\n",
       "      <th></th>\n",
       "      <th></th>\n",
       "      <th></th>\n",
       "      <th></th>\n",
       "      <th></th>\n",
       "    </tr>\n",
       "  </thead>\n",
       "  <tbody>\n",
       "    <tr>\n",
       "      <th>6996</th>\n",
       "      <td>-118.029999</td>\n",
       "      <td>33.950001</td>\n",
       "      <td>34.0</td>\n",
       "      <td>1882.0</td>\n",
       "      <td>428.0</td>\n",
       "      <td>1034.0</td>\n",
       "      <td>375.0</td>\n",
       "      <td>3.6509</td>\n",
       "      <td>&lt;1H OCEAN</td>\n",
       "    </tr>\n",
       "    <tr>\n",
       "      <th>11510</th>\n",
       "      <td>-118.099998</td>\n",
       "      <td>33.740002</td>\n",
       "      <td>31.0</td>\n",
       "      <td>1310.0</td>\n",
       "      <td>342.0</td>\n",
       "      <td>563.0</td>\n",
       "      <td>310.0</td>\n",
       "      <td>4.6528</td>\n",
       "      <td>NEAR OCEAN</td>\n",
       "    </tr>\n",
       "    <tr>\n",
       "      <th>7790</th>\n",
       "      <td>-118.070000</td>\n",
       "      <td>33.889999</td>\n",
       "      <td>17.0</td>\n",
       "      <td>2223.0</td>\n",
       "      <td>544.0</td>\n",
       "      <td>2008.0</td>\n",
       "      <td>512.0</td>\n",
       "      <td>3.0777</td>\n",
       "      <td>&lt;1H OCEAN</td>\n",
       "    </tr>\n",
       "    <tr>\n",
       "      <th>11125</th>\n",
       "      <td>-117.910004</td>\n",
       "      <td>33.840000</td>\n",
       "      <td>35.0</td>\n",
       "      <td>1244.0</td>\n",
       "      <td>324.0</td>\n",
       "      <td>1603.0</td>\n",
       "      <td>322.0</td>\n",
       "      <td>2.9583</td>\n",
       "      <td>&lt;1H OCEAN</td>\n",
       "    </tr>\n",
       "    <tr>\n",
       "      <th>11409</th>\n",
       "      <td>-117.940002</td>\n",
       "      <td>33.709999</td>\n",
       "      <td>18.0</td>\n",
       "      <td>3695.0</td>\n",
       "      <td>602.0</td>\n",
       "      <td>1779.0</td>\n",
       "      <td>572.0</td>\n",
       "      <td>5.9449</td>\n",
       "      <td>&lt;1H OCEAN</td>\n",
       "    </tr>\n",
       "    <tr>\n",
       "      <th>11598</th>\n",
       "      <td>-118.070000</td>\n",
       "      <td>33.790001</td>\n",
       "      <td>34.0</td>\n",
       "      <td>2473.0</td>\n",
       "      <td>383.0</td>\n",
       "      <td>967.0</td>\n",
       "      <td>353.0</td>\n",
       "      <td>5.8283</td>\n",
       "      <td>&lt;1H OCEAN</td>\n",
       "    </tr>\n",
       "    <tr>\n",
       "      <th>2693</th>\n",
       "      <td>-115.389999</td>\n",
       "      <td>32.759998</td>\n",
       "      <td>16.0</td>\n",
       "      <td>1136.0</td>\n",
       "      <td>196.0</td>\n",
       "      <td>481.0</td>\n",
       "      <td>185.0</td>\n",
       "      <td>6.2558</td>\n",
       "      <td>INLAND</td>\n",
       "    </tr>\n",
       "    <tr>\n",
       "      <th>11421</th>\n",
       "      <td>-117.980003</td>\n",
       "      <td>33.700001</td>\n",
       "      <td>24.0</td>\n",
       "      <td>3451.0</td>\n",
       "      <td>504.0</td>\n",
       "      <td>1736.0</td>\n",
       "      <td>493.0</td>\n",
       "      <td>6.3749</td>\n",
       "      <td>&lt;1H OCEAN</td>\n",
       "    </tr>\n",
       "    <tr>\n",
       "      <th>12039</th>\n",
       "      <td>-117.459999</td>\n",
       "      <td>33.900002</td>\n",
       "      <td>10.0</td>\n",
       "      <td>9738.0</td>\n",
       "      <td>2130.0</td>\n",
       "      <td>4936.0</td>\n",
       "      <td>1840.0</td>\n",
       "      <td>3.3187</td>\n",
       "      <td>INLAND</td>\n",
       "    </tr>\n",
       "    <tr>\n",
       "      <th>7366</th>\n",
       "      <td>-118.209999</td>\n",
       "      <td>33.959999</td>\n",
       "      <td>38.0</td>\n",
       "      <td>2090.0</td>\n",
       "      <td>519.0</td>\n",
       "      <td>1871.0</td>\n",
       "      <td>504.0</td>\n",
       "      <td>2.4688</td>\n",
       "      <td>&lt;1H OCEAN</td>\n",
       "    </tr>\n",
       "  </tbody>\n",
       "</table>\n",
       "</div>"
      ],
      "text/plain": [
       "        longitude   latitude  housing_median_age  total_rooms  total_bedrooms  \\\n",
       "Id                                                                              \n",
       "6996  -118.029999  33.950001                34.0       1882.0           428.0   \n",
       "11510 -118.099998  33.740002                31.0       1310.0           342.0   \n",
       "7790  -118.070000  33.889999                17.0       2223.0           544.0   \n",
       "11125 -117.910004  33.840000                35.0       1244.0           324.0   \n",
       "11409 -117.940002  33.709999                18.0       3695.0           602.0   \n",
       "11598 -118.070000  33.790001                34.0       2473.0           383.0   \n",
       "2693  -115.389999  32.759998                16.0       1136.0           196.0   \n",
       "11421 -117.980003  33.700001                24.0       3451.0           504.0   \n",
       "12039 -117.459999  33.900002                10.0       9738.0          2130.0   \n",
       "7366  -118.209999  33.959999                38.0       2090.0           519.0   \n",
       "\n",
       "       population  households  median_income ocean_proximity  \n",
       "Id                                                            \n",
       "6996       1034.0       375.0         3.6509       <1H OCEAN  \n",
       "11510       563.0       310.0         4.6528      NEAR OCEAN  \n",
       "7790       2008.0       512.0         3.0777       <1H OCEAN  \n",
       "11125      1603.0       322.0         2.9583       <1H OCEAN  \n",
       "11409      1779.0       572.0         5.9449       <1H OCEAN  \n",
       "11598       967.0       353.0         5.8283       <1H OCEAN  \n",
       "2693        481.0       185.0         6.2558          INLAND  \n",
       "11421      1736.0       493.0         6.3749       <1H OCEAN  \n",
       "12039      4936.0      1840.0         3.3187          INLAND  \n",
       "7366       1871.0       504.0         2.4688       <1H OCEAN  "
      ]
     },
     "execution_count": 29,
     "metadata": {},
     "output_type": "execute_result"
    }
   ],
   "source": [
    "X[(X['longitude'] < 120) & (X['latitude'] < 34)].head(10)"
   ]
  },
  {
   "cell_type": "markdown",
   "metadata": {
    "id": "q8MATL3U_C37"
   },
   "source": [
    "## Количественные переменные"
   ]
  },
  {
   "cell_type": "code",
   "execution_count": 30,
   "metadata": {
    "colab": {
     "base_uri": "https://localhost:8080/",
     "height": 288
    },
    "id": "m0C27hJm-ypk",
    "outputId": "5ee7c899-3746-4363-92c5-0dc1ce041425"
   },
   "outputs": [
    {
     "data": {
      "text/html": [
       "<div>\n",
       "<style scoped>\n",
       "    .dataframe tbody tr th:only-of-type {\n",
       "        vertical-align: middle;\n",
       "    }\n",
       "\n",
       "    .dataframe tbody tr th {\n",
       "        vertical-align: top;\n",
       "    }\n",
       "\n",
       "    .dataframe thead th {\n",
       "        text-align: right;\n",
       "    }\n",
       "</style>\n",
       "<table border=\"1\" class=\"dataframe\">\n",
       "  <thead>\n",
       "    <tr style=\"text-align: right;\">\n",
       "      <th></th>\n",
       "      <th>longitude</th>\n",
       "      <th>latitude</th>\n",
       "      <th>housing_median_age</th>\n",
       "      <th>total_rooms</th>\n",
       "      <th>total_bedrooms</th>\n",
       "      <th>population</th>\n",
       "      <th>households</th>\n",
       "      <th>median_income</th>\n",
       "    </tr>\n",
       "  </thead>\n",
       "  <tbody>\n",
       "    <tr>\n",
       "      <th>count</th>\n",
       "      <td>9679.000000</td>\n",
       "      <td>9679.000000</td>\n",
       "      <td>9349.000000</td>\n",
       "      <td>9679.000000</td>\n",
       "      <td>9679.000000</td>\n",
       "      <td>9405.000000</td>\n",
       "      <td>9679.000000</td>\n",
       "      <td>9679.000000</td>\n",
       "    </tr>\n",
       "    <tr>\n",
       "      <th>mean</th>\n",
       "      <td>-119.490227</td>\n",
       "      <td>34.391918</td>\n",
       "      <td>28.466574</td>\n",
       "      <td>2648.273926</td>\n",
       "      <td>539.669373</td>\n",
       "      <td>1431.199097</td>\n",
       "      <td>501.321106</td>\n",
       "      <td>3.892896</td>\n",
       "    </tr>\n",
       "    <tr>\n",
       "      <th>std</th>\n",
       "      <td>4.967558</td>\n",
       "      <td>138.569855</td>\n",
       "      <td>12.521811</td>\n",
       "      <td>2181.306152</td>\n",
       "      <td>425.677185</td>\n",
       "      <td>1180.067505</td>\n",
       "      <td>387.531189</td>\n",
       "      <td>1.924951</td>\n",
       "    </tr>\n",
       "    <tr>\n",
       "      <th>min</th>\n",
       "      <td>-124.349998</td>\n",
       "      <td>-13534.030273</td>\n",
       "      <td>1.000000</td>\n",
       "      <td>2.000000</td>\n",
       "      <td>1.000000</td>\n",
       "      <td>3.000000</td>\n",
       "      <td>1.000000</td>\n",
       "      <td>0.499900</td>\n",
       "    </tr>\n",
       "    <tr>\n",
       "      <th>25%</th>\n",
       "      <td>-121.820000</td>\n",
       "      <td>33.939999</td>\n",
       "      <td>18.000000</td>\n",
       "      <td>1454.000000</td>\n",
       "      <td>296.000000</td>\n",
       "      <td>791.000000</td>\n",
       "      <td>280.000000</td>\n",
       "      <td>2.572900</td>\n",
       "    </tr>\n",
       "    <tr>\n",
       "      <th>50%</th>\n",
       "      <td>-118.519997</td>\n",
       "      <td>34.270000</td>\n",
       "      <td>29.000000</td>\n",
       "      <td>2139.000000</td>\n",
       "      <td>435.000000</td>\n",
       "      <td>1166.000000</td>\n",
       "      <td>411.000000</td>\n",
       "      <td>3.540300</td>\n",
       "    </tr>\n",
       "    <tr>\n",
       "      <th>75%</th>\n",
       "      <td>-118.010002</td>\n",
       "      <td>37.709999</td>\n",
       "      <td>37.000000</td>\n",
       "      <td>3149.000000</td>\n",
       "      <td>646.000000</td>\n",
       "      <td>1722.000000</td>\n",
       "      <td>606.000000</td>\n",
       "      <td>4.768700</td>\n",
       "    </tr>\n",
       "    <tr>\n",
       "      <th>max</th>\n",
       "      <td>121.290001</td>\n",
       "      <td>1327.130005</td>\n",
       "      <td>52.000000</td>\n",
       "      <td>32627.000000</td>\n",
       "      <td>6445.000000</td>\n",
       "      <td>35682.000000</td>\n",
       "      <td>6082.000000</td>\n",
       "      <td>15.000100</td>\n",
       "    </tr>\n",
       "  </tbody>\n",
       "</table>\n",
       "</div>"
      ],
      "text/plain": [
       "         longitude      latitude  housing_median_age   total_rooms  \\\n",
       "count  9679.000000   9679.000000         9349.000000   9679.000000   \n",
       "mean   -119.490227     34.391918           28.466574   2648.273926   \n",
       "std       4.967558    138.569855           12.521811   2181.306152   \n",
       "min    -124.349998 -13534.030273            1.000000      2.000000   \n",
       "25%    -121.820000     33.939999           18.000000   1454.000000   \n",
       "50%    -118.519997     34.270000           29.000000   2139.000000   \n",
       "75%    -118.010002     37.709999           37.000000   3149.000000   \n",
       "max     121.290001   1327.130005           52.000000  32627.000000   \n",
       "\n",
       "       total_bedrooms    population   households  median_income  \n",
       "count     9679.000000   9405.000000  9679.000000    9679.000000  \n",
       "mean       539.669373   1431.199097   501.321106       3.892896  \n",
       "std        425.677185   1180.067505   387.531189       1.924951  \n",
       "min          1.000000      3.000000     1.000000       0.499900  \n",
       "25%        296.000000    791.000000   280.000000       2.572900  \n",
       "50%        435.000000   1166.000000   411.000000       3.540300  \n",
       "75%        646.000000   1722.000000   606.000000       4.768700  \n",
       "max       6445.000000  35682.000000  6082.000000      15.000100  "
      ]
     },
     "execution_count": 30,
     "metadata": {},
     "output_type": "execute_result"
    }
   ],
   "source": [
    "X.describe()"
   ]
  },
  {
   "cell_type": "code",
   "execution_count": 31,
   "metadata": {
    "colab": {
     "base_uri": "https://localhost:8080/",
     "height": 1000
    },
    "id": "GOSzmAnxA7XQ",
    "outputId": "0fc6f237-2d28-40ca-92b1-05202cbe9d38"
   },
   "outputs": [
    {
     "data": {
      "image/png": "[encoded data removed]",
      "text/plain": [
       "<Figure size 1152x1152 with 9 Axes>"
      ]
     },
     "metadata": {
      "needs_background": "light"
     },
     "output_type": "display_data"
    }
   ],
   "source": [
    "X.hist(figsize=(16,16), bins=20);"
   ]
  },
  {
   "cell_type": "code",
   "execution_count": 32,
   "metadata": {
    "colab": {
     "base_uri": "https://localhost:8080/",
     "height": 767
    },
    "id": "OFCeQq_ZQY4b",
    "outputId": "24b70dea-5fad-4929-b363-e563242d93ec"
   },
   "outputs": [
    {
     "data": {
      "image/png": "[encoded data removed]",
      "text/plain": [
       "<Figure size 1080x720 with 2 Axes>"
      ]
     },
     "metadata": {
      "needs_background": "light"
     },
     "output_type": "display_data"
    }
   ],
   "source": [
    "plt.figure(figsize = (15,10))\n",
    "\n",
    "sns.set(font_scale=1.4)\n",
    "\n",
    "corr_matrix = X.corr()\n",
    "#print(X.corr())\n",
    "corr_matrix = np.round(corr_matrix, 2)\n",
    "corr_matrix[np.abs(corr_matrix) < 0.2] = 0  # Проверьте, что будет если убрать маленькие корреляции\n",
    "\n",
    "sns.heatmap(corr_matrix, annot=True, linewidths=.5, cmap='coolwarm')\n",
    "\n",
    "plt.title('Correlation matrix')\n",
    "plt.show()"
   ]
  },
  {
   "cell_type": "code",
   "execution_count": 33,
   "metadata": {},
   "outputs": [
    {
     "data": {
      "image/png": "[encoded data removed]",
      "text/plain": [
       "<Figure size 720x576 with 1 Axes>"
      ]
     },
     "metadata": {},
     "output_type": "display_data"
    }
   ],
   "source": [
    "corr_with_target = df.corr().iloc[:-1, -1].sort_values(ascending=False)\n",
    "\n",
    "plt.figure(figsize=(10, 8))\n",
    "\n",
    "sns.barplot(x=corr_with_target.values, y=corr_with_target.index)\n",
    "\n",
    "plt.title('Correlation with target variable')\n",
    "plt.show()"
   ]
  },
  {
   "cell_type": "markdown",
   "metadata": {
    "id": "mQZyEVHV_620"
   },
   "source": [
    "## Качественные переменные"
   ]
  },
  {
   "cell_type": "code",
   "execution_count": 34,
   "metadata": {
    "colab": {
     "base_uri": "https://localhost:8080/",
     "height": 126
    },
    "id": "nmTlzV6S_4Xt",
    "outputId": "9f5bd35a-c27c-4807-bb01-561d3614bf5c"
   },
   "outputs": [
    {
     "data": {
      "text/plain": [
       "<1H OCEAN     4287\n",
       "INLAND        3102\n",
       "NEAR OCEAN    1206\n",
       "NEAR BAY      1075\n",
       "-                7\n",
       "ISLAND           2\n",
       "Name: ocean_proximity, dtype: int64"
      ]
     },
     "execution_count": 34,
     "metadata": {},
     "output_type": "execute_result"
    }
   ],
   "source": [
    "X['ocean_proximity'].value_counts()"
   ]
  },
  {
   "cell_type": "code",
   "execution_count": 35,
   "metadata": {},
   "outputs": [],
   "source": [
    "base_features = ['longitude', 'latitude', 'housing_median_age', 'total_rooms',\n",
    "       'total_bedrooms', 'population', 'households', 'median_income',\n",
    "       'ocean_proximity']"
   ]
  },
  {
   "cell_type": "markdown",
   "metadata": {
    "id": "dkEUY3QlAWH6"
   },
   "source": [
    "# Анализируем и исправляем"
   ]
  },
  {
   "cell_type": "code",
   "execution_count": 36,
   "metadata": {
    "colab": {
     "base_uri": "https://localhost:8080/",
     "height": 394
    },
    "id": "APFxQTu1AUvL",
    "outputId": "da2b574a-9796-4874-c108-b82d48eb2efe"
   },
   "outputs": [
    {
     "name": "stderr",
     "output_type": "stream",
     "text": [
      "C:\\Users\\Алексей\\AppData\\Roaming\\Python\\Python38\\site-packages\\seaborn\\_decorators.py:36: FutureWarning: Pass the following variables as keyword args: x, y. From version 0.12, the only valid positional argument will be `data`, and passing other arguments without an explicit keyword will result in an error or misinterpretation.\n",
      "  warnings.warn(\n"
     ]
    },
    {
     "data": {
      "image/png": "[encoded data removed]",
      "text/plain": [
       "<Figure size 1152x288 with 1 Axes>"
      ]
     },
     "metadata": {},
     "output_type": "display_data"
    }
   ],
   "source": [
    "nan_analize(X)"
   ]
  },
  {
   "cell_type": "code",
   "execution_count": 55,
   "metadata": {
    "id": "19ToOgzhHFZ3"
   },
   "outputs": [],
   "source": [
    "median = X['housing_median_age'].median()\n",
    "X['housing_median_age'] = X['housing_median_age'].fillna(median)\n",
    "X_final['housing_median_age'] = X_final['housing_median_age'].fillna(median)"
   ]
  },
  {
   "cell_type": "code",
   "execution_count": 61,
   "metadata": {
    "id": "DGEs4xUsHeVI"
   },
   "outputs": [],
   "source": [
    "median = X['population'].median()\n",
    "X['population'] = X['population'].fillna(median)\n",
    "X_final['population'] = X_final['population'].fillna(median)"
   ]
  },
  {
   "cell_type": "code",
   "execution_count": 68,
   "metadata": {},
   "outputs": [
    {
     "data": {
      "text/html": [
       "<div>\n",
       "<style scoped>\n",
       "    .dataframe tbody tr th:only-of-type {\n",
       "        vertical-align: middle;\n",
       "    }\n",
       "\n",
       "    .dataframe tbody tr th {\n",
       "        vertical-align: top;\n",
       "    }\n",
       "\n",
       "    .dataframe thead th {\n",
       "        text-align: right;\n",
       "    }\n",
       "</style>\n",
       "<table border=\"1\" class=\"dataframe\">\n",
       "  <thead>\n",
       "    <tr style=\"text-align: right;\">\n",
       "      <th></th>\n",
       "      <th>longitude</th>\n",
       "      <th>latitude</th>\n",
       "      <th>housing_median_age</th>\n",
       "      <th>total_rooms</th>\n",
       "      <th>total_bedrooms</th>\n",
       "      <th>population</th>\n",
       "      <th>households</th>\n",
       "      <th>median_income</th>\n",
       "      <th>ocean_proximity</th>\n",
       "    </tr>\n",
       "    <tr>\n",
       "      <th>Id</th>\n",
       "      <th></th>\n",
       "      <th></th>\n",
       "      <th></th>\n",
       "      <th></th>\n",
       "      <th></th>\n",
       "      <th></th>\n",
       "      <th></th>\n",
       "      <th></th>\n",
       "      <th></th>\n",
       "    </tr>\n",
       "  </thead>\n",
       "  <tbody>\n",
       "    <tr>\n",
       "      <th>8405</th>\n",
       "      <td>118.360001</td>\n",
       "      <td>33.930000</td>\n",
       "      <td>40.0</td>\n",
       "      <td>1625.0</td>\n",
       "      <td>500.0</td>\n",
       "      <td>2036.0</td>\n",
       "      <td>476.0</td>\n",
       "      <td>2.6298</td>\n",
       "      <td>&lt;1H OCEAN</td>\n",
       "    </tr>\n",
       "    <tr>\n",
       "      <th>13051</th>\n",
       "      <td>121.290001</td>\n",
       "      <td>38.610001</td>\n",
       "      <td>17.0</td>\n",
       "      <td>13553.0</td>\n",
       "      <td>2474.0</td>\n",
       "      <td>6544.0</td>\n",
       "      <td>2359.0</td>\n",
       "      <td>3.9727</td>\n",
       "      <td>INLAND</td>\n",
       "    </tr>\n",
       "    <tr>\n",
       "      <th>8636</th>\n",
       "      <td>118.410004</td>\n",
       "      <td>33.880001</td>\n",
       "      <td>43.0</td>\n",
       "      <td>2492.0</td>\n",
       "      <td>449.0</td>\n",
       "      <td>1033.0</td>\n",
       "      <td>437.0</td>\n",
       "      <td>7.9614</td>\n",
       "      <td>&lt;1H OCEAN</td>\n",
       "    </tr>\n",
       "    <tr>\n",
       "      <th>17085</th>\n",
       "      <td>0.000000</td>\n",
       "      <td>37.470001</td>\n",
       "      <td>33.0</td>\n",
       "      <td>1266.0</td>\n",
       "      <td>415.0</td>\n",
       "      <td>1991.0</td>\n",
       "      <td>334.0</td>\n",
       "      <td>2.9200</td>\n",
       "      <td>NEAR OCEAN</td>\n",
       "    </tr>\n",
       "    <tr>\n",
       "      <th>19423</th>\n",
       "      <td>0.000000</td>\n",
       "      <td>37.689999</td>\n",
       "      <td>5.0</td>\n",
       "      <td>9601.0</td>\n",
       "      <td>1639.0</td>\n",
       "      <td>4449.0</td>\n",
       "      <td>1575.0</td>\n",
       "      <td>4.5332</td>\n",
       "      <td>INLAND</td>\n",
       "    </tr>\n",
       "  </tbody>\n",
       "</table>\n",
       "</div>"
      ],
      "text/plain": [
       "        longitude   latitude  housing_median_age  total_rooms  total_bedrooms  \\\n",
       "Id                                                                              \n",
       "8405   118.360001  33.930000                40.0       1625.0           500.0   \n",
       "13051  121.290001  38.610001                17.0      13553.0          2474.0   \n",
       "8636   118.410004  33.880001                43.0       2492.0           449.0   \n",
       "17085    0.000000  37.470001                33.0       1266.0           415.0   \n",
       "19423    0.000000  37.689999                 5.0       9601.0          1639.0   \n",
       "\n",
       "       population  households  median_income ocean_proximity  \n",
       "Id                                                            \n",
       "8405       2036.0       476.0         2.6298       <1H OCEAN  \n",
       "13051      6544.0      2359.0         3.9727          INLAND  \n",
       "8636       1033.0       437.0         7.9614       <1H OCEAN  \n",
       "17085      1991.0       334.0         2.9200      NEAR OCEAN  \n",
       "19423      4449.0      1575.0         4.5332          INLAND  "
      ]
     },
     "execution_count": 68,
     "metadata": {},
     "output_type": "execute_result"
    }
   ],
   "source": [
    "X.loc[X['longitude'] >= 0]"
   ]
  },
  {
   "cell_type": "code",
   "execution_count": 69,
   "metadata": {
    "id": "qW1fRI43NAyT"
   },
   "outputs": [],
   "source": [
    "# третье\n",
    "X.loc[X['longitude'] > 0, 'longitude'] = X.loc[X['longitude'] > 0, 'longitude'] * -1\n",
    "X_final.loc[X_final['longitude'] > 0, 'longitude'] = X_final.loc[X_final['longitude'] > 0, 'longitude'] * -1"
   ]
  },
  {
   "cell_type": "code",
   "execution_count": 74,
   "metadata": {
    "id": "j9p_wBmHN4hW"
   },
   "outputs": [],
   "source": [
    "# четвёртое\n",
    "X.loc[X['longitude'] == 0, 'longitude'] = X['longitude'].median()\n",
    "X_final.loc[X_final['longitude'] == 0, 'longitude'] = X_final['longitude'].median()"
   ]
  },
  {
   "cell_type": "code",
   "execution_count": 79,
   "metadata": {
    "id": "VH0ONEUcVrYY"
   },
   "outputs": [],
   "source": [
    "# пятое\n",
    "median = X['latitude'].median()\n",
    "X.loc[X['latitude'] < 0, 'latitude'] = median\n",
    "X_final.loc[X_final['latitude'] < 0, 'latitude'] = median"
   ]
  },
  {
   "cell_type": "code",
   "execution_count": 54,
   "metadata": {},
   "outputs": [
    {
     "data": {
      "text/html": [
       "<div>\n",
       "<style scoped>\n",
       "    .dataframe tbody tr th:only-of-type {\n",
       "        vertical-align: middle;\n",
       "    }\n",
       "\n",
       "    .dataframe tbody tr th {\n",
       "        vertical-align: top;\n",
       "    }\n",
       "\n",
       "    .dataframe thead th {\n",
       "        text-align: right;\n",
       "    }\n",
       "</style>\n",
       "<table border=\"1\" class=\"dataframe\">\n",
       "  <thead>\n",
       "    <tr style=\"text-align: right;\">\n",
       "      <th></th>\n",
       "      <th>longitude</th>\n",
       "      <th>latitude</th>\n",
       "      <th>housing_median_age</th>\n",
       "      <th>total_rooms</th>\n",
       "      <th>total_bedrooms</th>\n",
       "      <th>population</th>\n",
       "      <th>households</th>\n",
       "      <th>median_income</th>\n",
       "      <th>ocean_proximity</th>\n",
       "    </tr>\n",
       "    <tr>\n",
       "      <th>Id</th>\n",
       "      <th></th>\n",
       "      <th></th>\n",
       "      <th></th>\n",
       "      <th></th>\n",
       "      <th></th>\n",
       "      <th></th>\n",
       "      <th></th>\n",
       "      <th></th>\n",
       "      <th></th>\n",
       "    </tr>\n",
       "  </thead>\n",
       "  <tbody>\n",
       "    <tr>\n",
       "      <th>9797</th>\n",
       "      <td>-121.919998</td>\n",
       "      <td>36.570000</td>\n",
       "      <td>42.0</td>\n",
       "      <td>3944.0</td>\n",
       "      <td>738.0</td>\n",
       "      <td>1374.0</td>\n",
       "      <td>598.0</td>\n",
       "      <td>4.1740</td>\n",
       "      <td>NEAR OCEAN</td>\n",
       "    </tr>\n",
       "    <tr>\n",
       "      <th>20618</th>\n",
       "      <td>-121.550003</td>\n",
       "      <td>39.060001</td>\n",
       "      <td>25.0</td>\n",
       "      <td>1332.0</td>\n",
       "      <td>247.0</td>\n",
       "      <td>726.0</td>\n",
       "      <td>226.0</td>\n",
       "      <td>2.2500</td>\n",
       "      <td>INLAND</td>\n",
       "    </tr>\n",
       "    <tr>\n",
       "      <th>19139</th>\n",
       "      <td>-122.709999</td>\n",
       "      <td>38.330002</td>\n",
       "      <td>13.0</td>\n",
       "      <td>4011.0</td>\n",
       "      <td>936.0</td>\n",
       "      <td>2064.0</td>\n",
       "      <td>914.0</td>\n",
       "      <td>3.6953</td>\n",
       "      <td>&lt;1H OCEAN</td>\n",
       "    </tr>\n",
       "    <tr>\n",
       "      <th>6996</th>\n",
       "      <td>-118.029999</td>\n",
       "      <td>33.950001</td>\n",
       "      <td>34.0</td>\n",
       "      <td>1882.0</td>\n",
       "      <td>428.0</td>\n",
       "      <td>1034.0</td>\n",
       "      <td>375.0</td>\n",
       "      <td>3.6509</td>\n",
       "      <td>&lt;1H OCEAN</td>\n",
       "    </tr>\n",
       "    <tr>\n",
       "      <th>840</th>\n",
       "      <td>-122.059998</td>\n",
       "      <td>37.599998</td>\n",
       "      <td>18.0</td>\n",
       "      <td>1726.0</td>\n",
       "      <td>276.0</td>\n",
       "      <td>1186.0</td>\n",
       "      <td>310.0</td>\n",
       "      <td>5.3226</td>\n",
       "      <td>NEAR BAY</td>\n",
       "    </tr>\n",
       "  </tbody>\n",
       "</table>\n",
       "</div>"
      ],
      "text/plain": [
       "        longitude   latitude  housing_median_age  total_rooms  total_bedrooms  \\\n",
       "Id                                                                              \n",
       "9797  -121.919998  36.570000                42.0       3944.0           738.0   \n",
       "20618 -121.550003  39.060001                25.0       1332.0           247.0   \n",
       "19139 -122.709999  38.330002                13.0       4011.0           936.0   \n",
       "6996  -118.029999  33.950001                34.0       1882.0           428.0   \n",
       "840   -122.059998  37.599998                18.0       1726.0           276.0   \n",
       "\n",
       "       population  households  median_income ocean_proximity  \n",
       "Id                                                            \n",
       "9797       1374.0       598.0         4.1740      NEAR OCEAN  \n",
       "20618       726.0       226.0         2.2500          INLAND  \n",
       "19139      2064.0       914.0         3.6953       <1H OCEAN  \n",
       "6996       1034.0       375.0         3.6509       <1H OCEAN  \n",
       "840        1186.0       310.0         5.3226        NEAR BAY  "
      ]
     },
     "execution_count": 54,
     "metadata": {},
     "output_type": "execute_result"
    }
   ],
   "source": [
    "X.head()"
   ]
  },
  {
   "cell_type": "code",
   "execution_count": 90,
   "metadata": {},
   "outputs": [
    {
     "data": {
      "text/html": [
       "<div>\n",
       "<style scoped>\n",
       "    .dataframe tbody tr th:only-of-type {\n",
       "        vertical-align: middle;\n",
       "    }\n",
       "\n",
       "    .dataframe tbody tr th {\n",
       "        vertical-align: top;\n",
       "    }\n",
       "\n",
       "    .dataframe thead th {\n",
       "        text-align: right;\n",
       "    }\n",
       "</style>\n",
       "<table border=\"1\" class=\"dataframe\">\n",
       "  <thead>\n",
       "    <tr style=\"text-align: right;\">\n",
       "      <th></th>\n",
       "      <th>-</th>\n",
       "      <th>&lt;1H OCEAN</th>\n",
       "      <th>INLAND</th>\n",
       "      <th>ISLAND</th>\n",
       "      <th>NEAR BAY</th>\n",
       "      <th>NEAR OCEAN</th>\n",
       "    </tr>\n",
       "    <tr>\n",
       "      <th>Id</th>\n",
       "      <th></th>\n",
       "      <th></th>\n",
       "      <th></th>\n",
       "      <th></th>\n",
       "      <th></th>\n",
       "      <th></th>\n",
       "    </tr>\n",
       "  </thead>\n",
       "  <tbody>\n",
       "    <tr>\n",
       "      <th>9797</th>\n",
       "      <td>0</td>\n",
       "      <td>0</td>\n",
       "      <td>0</td>\n",
       "      <td>0</td>\n",
       "      <td>0</td>\n",
       "      <td>1</td>\n",
       "    </tr>\n",
       "    <tr>\n",
       "      <th>20618</th>\n",
       "      <td>0</td>\n",
       "      <td>0</td>\n",
       "      <td>1</td>\n",
       "      <td>0</td>\n",
       "      <td>0</td>\n",
       "      <td>0</td>\n",
       "    </tr>\n",
       "    <tr>\n",
       "      <th>19139</th>\n",
       "      <td>0</td>\n",
       "      <td>1</td>\n",
       "      <td>0</td>\n",
       "      <td>0</td>\n",
       "      <td>0</td>\n",
       "      <td>0</td>\n",
       "    </tr>\n",
       "    <tr>\n",
       "      <th>6996</th>\n",
       "      <td>0</td>\n",
       "      <td>1</td>\n",
       "      <td>0</td>\n",
       "      <td>0</td>\n",
       "      <td>0</td>\n",
       "      <td>0</td>\n",
       "    </tr>\n",
       "    <tr>\n",
       "      <th>840</th>\n",
       "      <td>0</td>\n",
       "      <td>0</td>\n",
       "      <td>0</td>\n",
       "      <td>0</td>\n",
       "      <td>1</td>\n",
       "      <td>0</td>\n",
       "    </tr>\n",
       "    <tr>\n",
       "      <th>...</th>\n",
       "      <td>...</td>\n",
       "      <td>...</td>\n",
       "      <td>...</td>\n",
       "      <td>...</td>\n",
       "      <td>...</td>\n",
       "      <td>...</td>\n",
       "    </tr>\n",
       "    <tr>\n",
       "      <th>11539</th>\n",
       "      <td>0</td>\n",
       "      <td>1</td>\n",
       "      <td>0</td>\n",
       "      <td>0</td>\n",
       "      <td>0</td>\n",
       "      <td>0</td>\n",
       "    </tr>\n",
       "    <tr>\n",
       "      <th>9435</th>\n",
       "      <td>0</td>\n",
       "      <td>0</td>\n",
       "      <td>1</td>\n",
       "      <td>0</td>\n",
       "      <td>0</td>\n",
       "      <td>0</td>\n",
       "    </tr>\n",
       "    <tr>\n",
       "      <th>6035</th>\n",
       "      <td>0</td>\n",
       "      <td>0</td>\n",
       "      <td>1</td>\n",
       "      <td>0</td>\n",
       "      <td>0</td>\n",
       "      <td>0</td>\n",
       "    </tr>\n",
       "    <tr>\n",
       "      <th>18770</th>\n",
       "      <td>0</td>\n",
       "      <td>0</td>\n",
       "      <td>1</td>\n",
       "      <td>0</td>\n",
       "      <td>0</td>\n",
       "      <td>0</td>\n",
       "    </tr>\n",
       "    <tr>\n",
       "      <th>1680</th>\n",
       "      <td>0</td>\n",
       "      <td>0</td>\n",
       "      <td>0</td>\n",
       "      <td>0</td>\n",
       "      <td>1</td>\n",
       "      <td>0</td>\n",
       "    </tr>\n",
       "  </tbody>\n",
       "</table>\n",
       "<p>9679 rows × 6 columns</p>\n",
       "</div>"
      ],
      "text/plain": [
       "       -  <1H OCEAN  INLAND  ISLAND  NEAR BAY  NEAR OCEAN\n",
       "Id                                                       \n",
       "9797   0          0       0       0         0           1\n",
       "20618  0          0       1       0         0           0\n",
       "19139  0          1       0       0         0           0\n",
       "6996   0          1       0       0         0           0\n",
       "840    0          0       0       0         1           0\n",
       "...   ..        ...     ...     ...       ...         ...\n",
       "11539  0          1       0       0         0           0\n",
       "9435   0          0       1       0         0           0\n",
       "6035   0          0       1       0         0           0\n",
       "18770  0          0       1       0         0           0\n",
       "1680   0          0       0       0         1           0\n",
       "\n",
       "[9679 rows x 6 columns]"
      ]
     },
     "execution_count": 90,
     "metadata": {},
     "output_type": "execute_result"
    }
   ],
   "source": [
    " pd.get_dummies(X['ocean_proximity'])"
   ]
  },
  {
   "cell_type": "code",
   "execution_count": 91,
   "metadata": {
    "id": "RIIRtlzSPbAP"
   },
   "outputs": [],
   "source": [
    "# седьмое\n",
    "X = pd.concat([X, pd.get_dummies(X['ocean_proximity'])], axis=1)\n",
    "X_final = pd.concat([X_final, pd.get_dummies(X_final['ocean_proximity'])], axis=1)"
   ]
  },
  {
   "cell_type": "code",
   "execution_count": 92,
   "metadata": {},
   "outputs": [
    {
     "data": {
      "text/html": [
       "<div>\n",
       "<style scoped>\n",
       "    .dataframe tbody tr th:only-of-type {\n",
       "        vertical-align: middle;\n",
       "    }\n",
       "\n",
       "    .dataframe tbody tr th {\n",
       "        vertical-align: top;\n",
       "    }\n",
       "\n",
       "    .dataframe thead th {\n",
       "        text-align: right;\n",
       "    }\n",
       "</style>\n",
       "<table border=\"1\" class=\"dataframe\">\n",
       "  <thead>\n",
       "    <tr style=\"text-align: right;\">\n",
       "      <th></th>\n",
       "      <th>longitude</th>\n",
       "      <th>latitude</th>\n",
       "      <th>housing_median_age</th>\n",
       "      <th>total_rooms</th>\n",
       "      <th>total_bedrooms</th>\n",
       "      <th>population</th>\n",
       "      <th>households</th>\n",
       "      <th>median_income</th>\n",
       "      <th>ocean_proximity</th>\n",
       "      <th>population_per_room</th>\n",
       "      <th>-</th>\n",
       "      <th>&lt;1H OCEAN</th>\n",
       "      <th>INLAND</th>\n",
       "      <th>ISLAND</th>\n",
       "      <th>NEAR BAY</th>\n",
       "      <th>NEAR OCEAN</th>\n",
       "    </tr>\n",
       "    <tr>\n",
       "      <th>Id</th>\n",
       "      <th></th>\n",
       "      <th></th>\n",
       "      <th></th>\n",
       "      <th></th>\n",
       "      <th></th>\n",
       "      <th></th>\n",
       "      <th></th>\n",
       "      <th></th>\n",
       "      <th></th>\n",
       "      <th></th>\n",
       "      <th></th>\n",
       "      <th></th>\n",
       "      <th></th>\n",
       "      <th></th>\n",
       "      <th></th>\n",
       "      <th></th>\n",
       "    </tr>\n",
       "  </thead>\n",
       "  <tbody>\n",
       "    <tr>\n",
       "      <th>9797</th>\n",
       "      <td>-121.919998</td>\n",
       "      <td>36.570000</td>\n",
       "      <td>42.0</td>\n",
       "      <td>3944.0</td>\n",
       "      <td>738.0</td>\n",
       "      <td>1374.0</td>\n",
       "      <td>598.0</td>\n",
       "      <td>4.1740</td>\n",
       "      <td>NEAR OCEAN</td>\n",
       "      <td>0.348377</td>\n",
       "      <td>0</td>\n",
       "      <td>0</td>\n",
       "      <td>0</td>\n",
       "      <td>0</td>\n",
       "      <td>0</td>\n",
       "      <td>1</td>\n",
       "    </tr>\n",
       "    <tr>\n",
       "      <th>20618</th>\n",
       "      <td>-121.550003</td>\n",
       "      <td>39.060001</td>\n",
       "      <td>25.0</td>\n",
       "      <td>1332.0</td>\n",
       "      <td>247.0</td>\n",
       "      <td>726.0</td>\n",
       "      <td>226.0</td>\n",
       "      <td>2.2500</td>\n",
       "      <td>INLAND</td>\n",
       "      <td>0.545045</td>\n",
       "      <td>0</td>\n",
       "      <td>0</td>\n",
       "      <td>1</td>\n",
       "      <td>0</td>\n",
       "      <td>0</td>\n",
       "      <td>0</td>\n",
       "    </tr>\n",
       "    <tr>\n",
       "      <th>19139</th>\n",
       "      <td>-122.709999</td>\n",
       "      <td>38.330002</td>\n",
       "      <td>13.0</td>\n",
       "      <td>4011.0</td>\n",
       "      <td>936.0</td>\n",
       "      <td>2064.0</td>\n",
       "      <td>914.0</td>\n",
       "      <td>3.6953</td>\n",
       "      <td>&lt;1H OCEAN</td>\n",
       "      <td>0.514585</td>\n",
       "      <td>0</td>\n",
       "      <td>1</td>\n",
       "      <td>0</td>\n",
       "      <td>0</td>\n",
       "      <td>0</td>\n",
       "      <td>0</td>\n",
       "    </tr>\n",
       "    <tr>\n",
       "      <th>6996</th>\n",
       "      <td>-118.029999</td>\n",
       "      <td>33.950001</td>\n",
       "      <td>34.0</td>\n",
       "      <td>1882.0</td>\n",
       "      <td>428.0</td>\n",
       "      <td>1034.0</td>\n",
       "      <td>375.0</td>\n",
       "      <td>3.6509</td>\n",
       "      <td>&lt;1H OCEAN</td>\n",
       "      <td>0.549416</td>\n",
       "      <td>0</td>\n",
       "      <td>1</td>\n",
       "      <td>0</td>\n",
       "      <td>0</td>\n",
       "      <td>0</td>\n",
       "      <td>0</td>\n",
       "    </tr>\n",
       "    <tr>\n",
       "      <th>840</th>\n",
       "      <td>-122.059998</td>\n",
       "      <td>37.599998</td>\n",
       "      <td>18.0</td>\n",
       "      <td>1726.0</td>\n",
       "      <td>276.0</td>\n",
       "      <td>1186.0</td>\n",
       "      <td>310.0</td>\n",
       "      <td>5.3226</td>\n",
       "      <td>NEAR BAY</td>\n",
       "      <td>0.687138</td>\n",
       "      <td>0</td>\n",
       "      <td>0</td>\n",
       "      <td>0</td>\n",
       "      <td>0</td>\n",
       "      <td>1</td>\n",
       "      <td>0</td>\n",
       "    </tr>\n",
       "  </tbody>\n",
       "</table>\n",
       "</div>"
      ],
      "text/plain": [
       "        longitude   latitude  housing_median_age  total_rooms  total_bedrooms  \\\n",
       "Id                                                                              \n",
       "9797  -121.919998  36.570000                42.0       3944.0           738.0   \n",
       "20618 -121.550003  39.060001                25.0       1332.0           247.0   \n",
       "19139 -122.709999  38.330002                13.0       4011.0           936.0   \n",
       "6996  -118.029999  33.950001                34.0       1882.0           428.0   \n",
       "840   -122.059998  37.599998                18.0       1726.0           276.0   \n",
       "\n",
       "       population  households  median_income ocean_proximity  \\\n",
       "Id                                                             \n",
       "9797       1374.0       598.0         4.1740      NEAR OCEAN   \n",
       "20618       726.0       226.0         2.2500          INLAND   \n",
       "19139      2064.0       914.0         3.6953       <1H OCEAN   \n",
       "6996       1034.0       375.0         3.6509       <1H OCEAN   \n",
       "840        1186.0       310.0         5.3226        NEAR BAY   \n",
       "\n",
       "       population_per_room  -  <1H OCEAN  INLAND  ISLAND  NEAR BAY  NEAR OCEAN  \n",
       "Id                                                                              \n",
       "9797              0.348377  0          0       0       0         0           1  \n",
       "20618             0.545045  0          0       1       0         0           0  \n",
       "19139             0.514585  0          1       0       0         0           0  \n",
       "6996              0.549416  0          1       0       0         0           0  \n",
       "840               0.687138  0          0       0       0         1           0  "
      ]
     },
     "execution_count": 92,
     "metadata": {},
     "output_type": "execute_result"
    }
   ],
   "source": [
    "X.head()"
   ]
  },
  {
   "cell_type": "code",
   "execution_count": 84,
   "metadata": {
    "id": "xiwij74VVfS7"
   },
   "outputs": [],
   "source": [
    "# шестое\n",
    "X['population_per_room'] = X['population'] / X['total_rooms']\n",
    "X_final['population_per_room'] = X_final['population'] / X_final['total_rooms']"
   ]
  },
  {
   "cell_type": "code",
   "execution_count": 58,
   "metadata": {},
   "outputs": [
    {
     "data": {
      "text/plain": [
       "Id \n",
       "9797     0.348377\n",
       "20618    0.545045\n",
       "19139    0.514585\n",
       "6996     0.549416\n",
       "840      0.687138\n",
       "Name: population_per_room, dtype: float32"
      ]
     },
     "execution_count": 58,
     "metadata": {},
     "output_type": "execute_result"
    }
   ],
   "source": [
    "X['population_per_room'].head()"
   ]
  },
  {
   "cell_type": "code",
   "execution_count": 59,
   "metadata": {
    "colab": {
     "base_uri": "https://localhost:8080/",
     "height": 228
    },
    "id": "1XSNUkTfUWH8",
    "outputId": "728df219-0a94-4e58-fe53-a6f5a59ae437"
   },
   "outputs": [
    {
     "data": {
      "text/html": [
       "<div>\n",
       "<style scoped>\n",
       "    .dataframe tbody tr th:only-of-type {\n",
       "        vertical-align: middle;\n",
       "    }\n",
       "\n",
       "    .dataframe tbody tr th {\n",
       "        vertical-align: top;\n",
       "    }\n",
       "\n",
       "    .dataframe thead th {\n",
       "        text-align: right;\n",
       "    }\n",
       "</style>\n",
       "<table border=\"1\" class=\"dataframe\">\n",
       "  <thead>\n",
       "    <tr style=\"text-align: right;\">\n",
       "      <th></th>\n",
       "      <th>longitude</th>\n",
       "      <th>latitude</th>\n",
       "      <th>housing_median_age</th>\n",
       "      <th>total_rooms</th>\n",
       "      <th>total_bedrooms</th>\n",
       "      <th>population</th>\n",
       "      <th>households</th>\n",
       "      <th>median_income</th>\n",
       "      <th>ocean_proximity</th>\n",
       "      <th>-</th>\n",
       "      <th>&lt;1H OCEAN</th>\n",
       "      <th>INLAND</th>\n",
       "      <th>ISLAND</th>\n",
       "      <th>NEAR BAY</th>\n",
       "      <th>NEAR OCEAN</th>\n",
       "      <th>population_per_room</th>\n",
       "    </tr>\n",
       "    <tr>\n",
       "      <th>Id</th>\n",
       "      <th></th>\n",
       "      <th></th>\n",
       "      <th></th>\n",
       "      <th></th>\n",
       "      <th></th>\n",
       "      <th></th>\n",
       "      <th></th>\n",
       "      <th></th>\n",
       "      <th></th>\n",
       "      <th></th>\n",
       "      <th></th>\n",
       "      <th></th>\n",
       "      <th></th>\n",
       "      <th></th>\n",
       "      <th></th>\n",
       "      <th></th>\n",
       "    </tr>\n",
       "  </thead>\n",
       "  <tbody>\n",
       "    <tr>\n",
       "      <th>3126</th>\n",
       "      <td>-117.790001</td>\n",
       "      <td>35.209999</td>\n",
       "      <td>4.0</td>\n",
       "      <td>2.0</td>\n",
       "      <td>2.0</td>\n",
       "      <td>6.0</td>\n",
       "      <td>2.0</td>\n",
       "      <td>2.375</td>\n",
       "      <td>INLAND</td>\n",
       "      <td>0</td>\n",
       "      <td>0</td>\n",
       "      <td>1</td>\n",
       "      <td>0</td>\n",
       "      <td>0</td>\n",
       "      <td>0</td>\n",
       "      <td>3.000000</td>\n",
       "    </tr>\n",
       "    <tr>\n",
       "      <th>19435</th>\n",
       "      <td>-121.040001</td>\n",
       "      <td>37.669998</td>\n",
       "      <td>16.0</td>\n",
       "      <td>19.0</td>\n",
       "      <td>19.0</td>\n",
       "      <td>166.0</td>\n",
       "      <td>9.0</td>\n",
       "      <td>0.536</td>\n",
       "      <td>INLAND</td>\n",
       "      <td>0</td>\n",
       "      <td>0</td>\n",
       "      <td>1</td>\n",
       "      <td>0</td>\n",
       "      <td>0</td>\n",
       "      <td>0</td>\n",
       "      <td>8.736842</td>\n",
       "    </tr>\n",
       "  </tbody>\n",
       "</table>\n",
       "</div>"
      ],
      "text/plain": [
       "        longitude   latitude  housing_median_age  total_rooms  total_bedrooms  \\\n",
       "Id                                                                              \n",
       "3126  -117.790001  35.209999                 4.0          2.0             2.0   \n",
       "19435 -121.040001  37.669998                16.0         19.0            19.0   \n",
       "\n",
       "       population  households  median_income ocean_proximity  -  <1H OCEAN  \\\n",
       "Id                                                                           \n",
       "3126          6.0         2.0          2.375          INLAND  0          0   \n",
       "19435       166.0         9.0          0.536          INLAND  0          0   \n",
       "\n",
       "       INLAND  ISLAND  NEAR BAY  NEAR OCEAN  population_per_room  \n",
       "Id                                                                \n",
       "3126        1       0         0           0             3.000000  \n",
       "19435       1       0         0           0             8.736842  "
      ]
     },
     "execution_count": 59,
     "metadata": {},
     "output_type": "execute_result"
    }
   ],
   "source": [
    "X.loc[X['total_bedrooms'] + 1 > X['total_rooms'] ].head(20)"
   ]
  },
  {
   "cell_type": "code",
   "execution_count": 93,
   "metadata": {
    "colab": {
     "base_uri": "https://localhost:8080/",
     "height": 108
    },
    "id": "6dgCLtyhJlKS",
    "outputId": "7291c90b-8c6b-4627-9230-bf95bb975614"
   },
   "outputs": [
    {
     "data": {
      "text/plain": [
       "Index(['longitude', 'latitude', 'housing_median_age', 'total_rooms',\n",
       "       'total_bedrooms', 'population', 'households', 'median_income',\n",
       "       'ocean_proximity', 'population_per_room', '-', '<1H OCEAN', 'INLAND',\n",
       "       'ISLAND', 'NEAR BAY', 'NEAR OCEAN'],\n",
       "      dtype='object')"
      ]
     },
     "execution_count": 93,
     "metadata": {},
     "output_type": "execute_result"
    }
   ],
   "source": [
    "X.columns"
   ]
  },
  {
   "cell_type": "markdown",
   "metadata": {
    "id": "wOgMbIEhJADO"
   },
   "source": [
    "# Проверяем модель"
   ]
  },
  {
   "cell_type": "code",
   "execution_count": 94,
   "metadata": {
    "id": "l5riIqZoJgIl"
   },
   "outputs": [],
   "source": [
    "remain_features = ['longitude', 'latitude', 'housing_median_age', 'total_rooms',\n",
    "       'total_bedrooms', 'population', 'households', 'median_income', 'population_per_room', '-', '<1H OCEAN', 'INLAND',\n",
    "       'ISLAND', 'NEAR BAY', 'NEAR OCEAN']\n",
    "\n",
    "X = X[remain_features]\n",
    "X_final = X_final[remain_features]"
   ]
  },
  {
   "cell_type": "code",
   "execution_count": 95,
   "metadata": {
    "id": "58CXSAdTI_Ly"
   },
   "outputs": [],
   "source": [
    "X_train, X_test, y_train, y_test = train_test_split(X, y, test_size=0.3, random_state=42)"
   ]
  },
  {
   "cell_type": "code",
   "execution_count": 96,
   "metadata": {
    "colab": {
     "base_uri": "https://localhost:8080/",
     "height": 145
    },
    "id": "N_YJ0CZtKzjd",
    "outputId": "4f016b45-8654-41a2-836c-fe487cf50f30"
   },
   "outputs": [
    {
     "data": {
      "text/plain": [
       "LGBMRegressor(max_depth=15, n_estimators=250, random_state=53)"
      ]
     },
     "execution_count": 96,
     "metadata": {},
     "output_type": "execute_result"
    }
   ],
   "source": [
    "model = LGBMRegressor(max_depth=15,\n",
    "                             n_estimators=250,\n",
    "                             random_state=53)\n",
    "model.fit(X_train, y_train)"
   ]
  },
  {
   "cell_type": "code",
   "execution_count": 97,
   "metadata": {
    "colab": {
     "base_uri": "https://localhost:8080/",
     "height": 573
    },
    "id": "-ZVCRx2vK5Vi",
    "outputId": "5bea807c-5933-4198-b83e-f56a8c3f5f97"
   },
   "outputs": [
    {
     "name": "stdout",
     "output_type": "stream",
     "text": [
      "R2:\t0.81846\n",
      "RMSE:\t48861.599\n",
      "MSE:\t2387455848.286\n"
     ]
    },
    {
     "data": {
      "image/png": "[encoded data removed]",
      "text/plain": [
       "<Figure size 576x576 with 1 Axes>"
      ]
     },
     "metadata": {},
     "output_type": "display_data"
    }
   ],
   "source": [
    "y_pred_test = model.predict(X_test)\n",
    "#y_test.columns\n",
    "evaluate_preds(y_test['median_house_value'], y_pred_test)"
   ]
  },
  {
   "cell_type": "code",
   "execution_count": null,
   "metadata": {},
   "outputs": [],
   "source": [
    "# 0.81264\n",
    "# 0.80827 - убрали ocean_proxmity\n",
    "# 0.81528 - добавили медиану по возрасту дома в пропуски\n",
    "# 0.81074 - добавили медиану по популяции\n",
    "# 0.81292 - поправили 3 longitidu \n",
    "# 0.81268 - поправили 0 \n",
    "# 0.81278 - latitude \n",
    "# 0.81849 - добавили новый признак \n",
    "# 0.81846 - дамми-переменные на близость к океану"
   ]
  },
  {
   "cell_type": "code",
   "execution_count": 98,
   "metadata": {
    "colab": {
     "base_uri": "https://localhost:8080/",
     "height": 441
    },
    "id": "4jNaYmkCLvEQ",
    "outputId": "78c31583-5b1c-420d-d360-035b7016edda"
   },
   "outputs": [
    {
     "data": {
      "image/png": "[encoded data removed]",
      "text/plain": [
       "<Figure size 1440x432 with 1 Axes>"
      ]
     },
     "metadata": {},
     "output_type": "display_data"
    }
   ],
   "source": [
    "plot_feature_importances(importances = model.feature_importances_, X=X)"
   ]
  },
  {
   "cell_type": "markdown",
   "metadata": {},
   "source": [
    "## Учим финальную модель"
   ]
  },
  {
   "cell_type": "code",
   "execution_count": 100,
   "metadata": {},
   "outputs": [
    {
     "data": {
      "text/plain": [
       "LGBMRegressor(max_depth=15, n_estimators=250, random_state=42)"
      ]
     },
     "execution_count": 100,
     "metadata": {},
     "output_type": "execute_result"
    }
   ],
   "source": [
    "model_lgbm_f = LGBMRegressor(max_depth=15,\n",
    "                             n_estimators=250,\n",
    "                             random_state=42)\n",
    "model_lgbm_f.fit(X, y)"
   ]
  },
  {
   "cell_type": "code",
   "execution_count": 101,
   "metadata": {},
   "outputs": [
    {
     "data": {
      "text/plain": [
       "array([ 79999.31740445,  70600.88040589, 236917.58752691, ...,\n",
       "       299998.50748388, 189905.09398589, 201709.4331095 ])"
      ]
     },
     "execution_count": 101,
     "metadata": {},
     "output_type": "execute_result"
    }
   ],
   "source": [
    "y_pred_test = model_lgbm_f.predict(X_final)\n",
    "y_pred_test"
   ]
  },
  {
   "cell_type": "code",
   "execution_count": 102,
   "metadata": {},
   "outputs": [],
   "source": [
    "y_pred_df = pd.DataFrame(y_pred_test, columns=['median_house_value'])"
   ]
  },
  {
   "cell_type": "code",
   "execution_count": 103,
   "metadata": {},
   "outputs": [
    {
     "data": {
      "text/html": [
       "<div>\n",
       "<style scoped>\n",
       "    .dataframe tbody tr th:only-of-type {\n",
       "        vertical-align: middle;\n",
       "    }\n",
       "\n",
       "    .dataframe tbody tr th {\n",
       "        vertical-align: top;\n",
       "    }\n",
       "\n",
       "    .dataframe thead th {\n",
       "        text-align: right;\n",
       "    }\n",
       "</style>\n",
       "<table border=\"1\" class=\"dataframe\">\n",
       "  <thead>\n",
       "    <tr style=\"text-align: right;\">\n",
       "      <th></th>\n",
       "      <th>median_house_value</th>\n",
       "    </tr>\n",
       "  </thead>\n",
       "  <tbody>\n",
       "    <tr>\n",
       "      <th>0</th>\n",
       "      <td>79999.317404</td>\n",
       "    </tr>\n",
       "    <tr>\n",
       "      <th>1</th>\n",
       "      <td>70600.880406</td>\n",
       "    </tr>\n",
       "    <tr>\n",
       "      <th>2</th>\n",
       "      <td>236917.587527</td>\n",
       "    </tr>\n",
       "    <tr>\n",
       "      <th>3</th>\n",
       "      <td>194379.666022</td>\n",
       "    </tr>\n",
       "    <tr>\n",
       "      <th>4</th>\n",
       "      <td>332063.636437</td>\n",
       "    </tr>\n",
       "    <tr>\n",
       "      <th>...</th>\n",
       "      <td>...</td>\n",
       "    </tr>\n",
       "    <tr>\n",
       "      <th>4144</th>\n",
       "      <td>52534.329888</td>\n",
       "    </tr>\n",
       "    <tr>\n",
       "      <th>4145</th>\n",
       "      <td>175559.248723</td>\n",
       "    </tr>\n",
       "    <tr>\n",
       "      <th>4146</th>\n",
       "      <td>299998.507484</td>\n",
       "    </tr>\n",
       "    <tr>\n",
       "      <th>4147</th>\n",
       "      <td>189905.093986</td>\n",
       "    </tr>\n",
       "    <tr>\n",
       "      <th>4148</th>\n",
       "      <td>201709.433109</td>\n",
       "    </tr>\n",
       "  </tbody>\n",
       "</table>\n",
       "<p>4149 rows × 1 columns</p>\n",
       "</div>"
      ],
      "text/plain": [
       "      median_house_value\n",
       "0           79999.317404\n",
       "1           70600.880406\n",
       "2          236917.587527\n",
       "3          194379.666022\n",
       "4          332063.636437\n",
       "...                  ...\n",
       "4144        52534.329888\n",
       "4145       175559.248723\n",
       "4146       299998.507484\n",
       "4147       189905.093986\n",
       "4148       201709.433109\n",
       "\n",
       "[4149 rows x 1 columns]"
      ]
     },
     "execution_count": 103,
     "metadata": {},
     "output_type": "execute_result"
    }
   ],
   "source": [
    "y_pred_df"
   ]
  },
  {
   "cell_type": "code",
   "execution_count": 104,
   "metadata": {},
   "outputs": [
    {
     "data": {
      "text/plain": [
       "Int64Index([ 3320,  9580, 14220,  3697, 10601,  4276,  5972,   730, 14826,\n",
       "              325,\n",
       "            ...\n",
       "            15007, 14692,  4108, 11673,  4223,  2024, 11203, 17269, 19342,\n",
       "            16715],\n",
       "           dtype='int64', name='Id ', length=4149)"
      ]
     },
     "execution_count": 104,
     "metadata": {},
     "output_type": "execute_result"
    }
   ],
   "source": [
    "X_final.index"
   ]
  },
  {
   "cell_type": "code",
   "execution_count": null,
   "metadata": {},
   "outputs": [],
   "source": [
    "filename = 'yymmdd_Surn_1.csv'\n",
    "y_pred_df.to_csv(filename, index=None)"
   ]
  },
  {
   "cell_type": "markdown",
   "metadata": {},
   "source": [
    "## Домашнее задание\n",
    "Получить большую точность на тестовых данных.\n",
    "yymmdd_Surn_#.csv\n",
    "+ноутбук"
   ]
  }
 ],
 "metadata": {
  "colab": {
   "name": "200425 Pandas и data sience.ipynb",
   "provenance": []
  },
  "kernelspec": {
   "display_name": "Python 3 (ipykernel)",
   "language": "python",
   "name": "python3"
  },
  "language_info": {
   "codemirror_mode": {
    "name": "ipython",
    "version": 3
   },
   "file_extension": ".py",
   "mimetype": "text/x-python",
   "name": "python",
   "nbconvert_exporter": "python",
   "pygments_lexer": "ipython3",
   "version": "3.8.10"
  }
 },
 "nbformat": 4,
 "nbformat_minor": 1
}
