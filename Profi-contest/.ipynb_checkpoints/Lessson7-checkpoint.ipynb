{
 "cells": [
  {
   "cell_type": "markdown",
   "id": "1be0f681",
   "metadata": {},
   "source": [
    "# Задача 2. Я-профессионал. Отборочный тур. Машинное обучение.\n",
    "\n",
    "\n",
    "Есть различные данные о полупроводниках: их химических состав, какие-то различные характеристики. Необходимо определить критическую температуру для этих полупроводников.\n",
    "- formula_train.csv - тренировочные данные, файл содержит химический состав для каждого полупроводника\n",
    "- train.csv - тренировочные данные, различные характеристики полупроводника\n",
    "- formula_test.csv, test.csv - аналогично тестовые данные"
   ]
  },
  {
   "cell_type": "code",
   "execution_count": null,
   "id": "0ca4425d",
   "metadata": {},
   "outputs": [],
   "source": [
    "import pandas as pd\n",
    "\n",
    "formula_test = pd.read_csv(\"formula_test.csv\")\n",
    "formula_train = pd.read_csv(\"formula_train.csv\")\n",
    "\n",
    "test = pd.read_csv(\"test.csv\")\n",
    "train = pd.read_csv(\"train.csv\")\n",
    "\n",
    "formula_train"
   ]
  }
 ],
 "metadata": {
  "kernelspec": {
   "display_name": "Python 3",
   "language": "python",
   "name": "python3"
  },
  "language_info": {
   "codemirror_mode": {
    "name": "ipython",
    "version": 3
   },
   "file_extension": ".py",
   "mimetype": "text/x-python",
   "name": "python",
   "nbconvert_exporter": "python",
   "pygments_lexer": "ipython3",
   "version": "3.8.8"
  }
 },
 "nbformat": 4,
 "nbformat_minor": 5
}
